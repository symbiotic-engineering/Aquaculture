{
 "cells": [
  {
   "cell_type": "markdown",
   "metadata": {},
   "source": [
    "# Multi-Objective Optimization Example"
   ]
  },
  {
   "cell_type": "code",
   "execution_count": 1,
   "metadata": {},
   "outputs": [
    {
     "name": "stdout",
     "output_type": "stream",
     "text": [
      "==========================================================================================\n",
      "n_gen  |  n_eval  | n_nds  |     cv_min    |     cv_avg    |      eps      |   indicator  \n",
      "==========================================================================================\n",
      "     1 |        5 |      1 |  5.9119727161 |  3.047243E+01 |             - |             -\n",
      "     2 |       15 |      1 |  4.3356956015 |  5.6258314577 |             - |             -\n",
      "     3 |       25 |      1 |  0.000000E+00 |  3.7442775651 |             - |             -\n",
      "     4 |       35 |      1 |  0.000000E+00 |  0.000000E+00 |  0.2930742739 |         ideal\n",
      "     5 |       45 |      3 |  0.000000E+00 |  0.000000E+00 |  0.5444701018 |         ideal\n",
      "     6 |       55 |      5 |  0.000000E+00 |  0.000000E+00 |  0.6119993393 |         ideal\n",
      "     7 |       65 |      2 |  0.000000E+00 |  0.000000E+00 |  0.7067301977 |         ideal\n",
      "     8 |       75 |      3 |  0.000000E+00 |  0.000000E+00 |  0.7473242941 |         ideal\n",
      "     9 |       85 |      4 |  0.000000E+00 |  0.000000E+00 |  0.5182800656 |         ideal\n",
      "    10 |       95 |      5 |  0.000000E+00 |  0.000000E+00 |  0.6922068690 |         ideal\n",
      "    11 |      105 |      5 |  0.000000E+00 |  0.000000E+00 |  0.0216020958 |         ideal\n",
      "    12 |      115 |      5 |  0.000000E+00 |  0.000000E+00 |  0.0214050180 |         ideal\n",
      "    13 |      125 |      5 |  0.000000E+00 |  0.000000E+00 |  0.0204419228 |         ideal\n",
      "    14 |      135 |      5 |  0.000000E+00 |  0.000000E+00 |  0.0479740371 |             f\n",
      "    15 |      145 |      5 |  0.000000E+00 |  0.000000E+00 |  0.0072421632 |         ideal\n",
      "    16 |      155 |      5 |  0.000000E+00 |  0.000000E+00 |  0.0025969697 |         ideal\n",
      "    17 |      165 |      5 |  0.000000E+00 |  0.000000E+00 |  0.0129957302 |         nadir\n",
      "    18 |      175 |      5 |  0.000000E+00 |  0.000000E+00 |  0.0136486112 |             f\n",
      "    19 |      185 |      5 |  0.000000E+00 |  0.000000E+00 |  0.0174507239 |             f\n",
      "    20 |      195 |      5 |  0.000000E+00 |  0.000000E+00 |  0.0455379682 |             f\n",
      "    21 |      205 |      5 |  0.000000E+00 |  0.000000E+00 |  0.0284179469 |             f\n",
      "    22 |      215 |      5 |  0.000000E+00 |  0.000000E+00 |  0.0115094087 |         nadir\n",
      "    23 |      225 |      5 |  0.000000E+00 |  0.000000E+00 |  0.0106527858 |             f\n",
      "    24 |      235 |      5 |  0.000000E+00 |  0.000000E+00 |  0.0439094534 |             f\n",
      "    25 |      245 |      5 |  0.000000E+00 |  0.000000E+00 |  0.0034385097 |         ideal\n",
      "    26 |      255 |      5 |  0.000000E+00 |  0.000000E+00 |  0.0274331214 |             f\n",
      "    27 |      265 |      5 |  0.000000E+00 |  0.000000E+00 |  0.000000E+00 |             f\n",
      "    28 |      275 |      5 |  0.000000E+00 |  0.000000E+00 |  0.0330680963 |             f\n",
      "    29 |      285 |      5 |  0.000000E+00 |  0.000000E+00 |  0.0648780305 |             f\n",
      "    30 |      295 |      5 |  0.000000E+00 |  0.000000E+00 |  0.000000E+00 |             f\n",
      "    31 |      305 |      5 |  0.000000E+00 |  0.000000E+00 |  0.0089149581 |             f\n",
      "    32 |      315 |      5 |  0.000000E+00 |  0.000000E+00 |  0.000000E+00 |             f\n",
      "    33 |      325 |      5 |  0.000000E+00 |  0.000000E+00 |  0.0110710513 |             f\n",
      "    34 |      335 |      5 |  0.000000E+00 |  0.000000E+00 |  0.0080892127 |             f\n",
      "    35 |      345 |      5 |  0.000000E+00 |  0.000000E+00 |  0.0407962318 |             f\n",
      "    36 |      355 |      5 |  0.000000E+00 |  0.000000E+00 |  0.0378369557 |             f\n",
      "    37 |      365 |      5 |  0.000000E+00 |  0.000000E+00 |  0.0423261837 |             f\n",
      "    38 |      375 |      5 |  0.000000E+00 |  0.000000E+00 |  0.000000E+00 |             f\n",
      "    39 |      385 |      5 |  0.000000E+00 |  0.000000E+00 |  0.0002742031 |             f\n",
      "    40 |      395 |      5 |  0.000000E+00 |  0.000000E+00 |  0.0002850153 |             f\n"
     ]
    }
   ],
   "source": [
    "# I used the official pymoo website as reference for this code:\n",
    "# https://pymoo.org/index.html\n",
    "\n",
    "import autograd.numpy as anp\n",
    "from pymoo.core.problem import Problem\n",
    "from pymoo.algorithms.moo.nsga2 import NSGA2\n",
    "from pymoo.operators.crossover.sbx import SBX\n",
    "from pymoo.operators.mutation.pm import PM\n",
    "from pymoo.operators.sampling.rnd import FloatRandomSampling\n",
    "from pymoo.termination import get_termination\n",
    "from pymoo.optimize import minimize\n",
    "\n",
    "class MyProblem(Problem):\n",
    "  def __init__(self):\n",
    "    super().__init__(n_var=2,\n",
    "                     n_obj=2,\n",
    "                     n_ieq_constr=2,\n",
    "                     xl=anp.array([-2,-2]),\n",
    "                     xu=anp.array([2,2]))\n",
    "  \n",
    "  def _evaluate(self, x, out, *args, **kwargs):\n",
    "    f1 = x[:,0]**2 + x[:,1]**2\n",
    "    f2 = (x[:,0]-1)**2 + x[:,1]**2\n",
    "    \n",
    "    g1 = 2*(x[:,0]-0.1) * (x[:,0]-0.9) / 0.18\n",
    "    g2 = -20*(x[:,0]-0.4) * (x[:,0]-0.6) / 4.8\n",
    "\n",
    "    f = anp.column_stack([f1, f2])\n",
    "    g = anp.column_stack([g1, g2])\n",
    "\n",
    "    # print('x', x)\n",
    "    # print('f', f)\n",
    "    # print('g', g)\n",
    "    \n",
    "    out[\"F\"] = f\n",
    "    out[\"G\"] = g\n",
    "    \n",
    "problem = MyProblem()\n",
    "\n",
    "algorithm = NSGA2(\n",
    "  pop_size=5, #50\n",
    "  n_offsprings=10,\n",
    "  sampling=FloatRandomSampling(),\n",
    "  crossover=SBX(prob=0.9, eta=15),\n",
    "  mutation=PM(eta=20),\n",
    "  eliminate_duplicates=True\n",
    ")\n",
    "\n",
    "termination = get_termination(\"n_gen\", 40) #40\n",
    "\n",
    "res = minimize(problem,\n",
    "               algorithm,\n",
    "               termination,\n",
    "               seed=1,\n",
    "               save_history=True,\n",
    "               verbose=True)\n",
    "\n",
    "X = res.X\n",
    "F = res.F"
   ]
  },
  {
   "cell_type": "markdown",
   "metadata": {},
   "source": [
    "# Visualize"
   ]
  },
  {
   "cell_type": "code",
   "execution_count": 3,
   "metadata": {},
   "outputs": [
    {
     "data": {
      "image/png": "[encoded data removed]",
      "text/plain": [
       "<Figure size 504x360 with 1 Axes>"
      ]
     },
     "metadata": {
      "needs_background": "light"
     },
     "output_type": "display_data"
    }
   ],
   "source": [
    "import matplotlib.pyplot as plt\n",
    "\n",
    "xl, xu = problem.bounds()\n",
    "\n",
    "plt.figure(figsize=(7, 5))\n",
    "plt.scatter(X[:, 0], X[:, 1], s=30, facecolors='none', edgecolors='r')\n",
    "plt.xlim(xl[0], xu[0])\n",
    "plt.ylim(xl[1], xu[1])\n",
    "plt.title(\"Design Space\")\n",
    "plt.show()"
   ]
  },
  {
   "cell_type": "code",
   "execution_count": 4,
   "metadata": {},
   "outputs": [
    {
     "data": {
      "image/png": "[encoded data removed]",
      "text/plain": [
       "<Figure size 504x360 with 1 Axes>"
      ]
     },
     "metadata": {
      "needs_background": "light"
     },
     "output_type": "display_data"
    }
   ],
   "source": [
    "plt.figure(figsize=(7, 5))\n",
    "plt.scatter(F[:, 0], F[:, 1], s=30, facecolors='none', edgecolors='blue')\n",
    "plt.title(\"Objective Space\")\n",
    "plt.show()"
   ]
  },
  {
   "cell_type": "code",
   "execution_count": 5,
   "metadata": {},
   "outputs": [
    {
     "name": "stdout",
     "output_type": "stream",
     "text": [
      "Scale f1: [0.010394778518924319, 0.8090663283786674]\n",
      "Scale f2: [0.010272074825855198, 0.8064901562229236]\n"
     ]
    }
   ],
   "source": [
    "fl = F.min(axis=0)\n",
    "fu = F.max(axis=0)\n",
    "\n",
    "print(f\"Scale f1: [{fl[0]}, {fu[0]}]\")\n",
    "print(f\"Scale f2: [{fl[1]}, {fu[1]}]\")"
   ]
  },
  {
   "cell_type": "code",
   "execution_count": 6,
   "metadata": {},
   "outputs": [
    {
     "data": {
      "image/png": "[encoded data removed]",
      "text/plain": [
       "<Figure size 504x360 with 1 Axes>"
      ]
     },
     "metadata": {
      "needs_background": "light"
     },
     "output_type": "display_data"
    }
   ],
   "source": [
    "approx_ideal = F.min(axis=0)\n",
    "approx_nadir = F.max(axis=0)\n",
    "\n",
    "plt.figure(figsize=(7, 5))\n",
    "plt.scatter(F[:, 0], F[:, 1], s=30, facecolors='none', edgecolors='blue')\n",
    "plt.scatter(approx_ideal[0], approx_ideal[1], facecolors='none', edgecolors='red', marker=\"*\", s=100, label=\"Ideal Point (Approx)\")\n",
    "plt.scatter(approx_nadir[0], approx_nadir[1], facecolors='none', edgecolors='black', marker=\"p\", s=100, label=\"Nadir Point (Approx)\")\n",
    "plt.title(\"Objective Space\")\n",
    "plt.legend()\n",
    "plt.show()"
   ]
  },
  {
   "cell_type": "code",
   "execution_count": 7,
   "metadata": {},
   "outputs": [
    {
     "name": "stdout",
     "output_type": "stream",
     "text": [
      "Scale f1: [0.0, 1.0]\n",
      "Scale f2: [0.0, 1.0]\n"
     ]
    },
    {
     "data": {
      "image/png": "[encoded data removed]",
      "text/plain": [
       "<Figure size 504x360 with 1 Axes>"
      ]
     },
     "metadata": {
      "needs_background": "light"
     },
     "output_type": "display_data"
    }
   ],
   "source": [
    "nF = (F - approx_ideal) / (approx_nadir - approx_ideal)\n",
    "\n",
    "fl = nF.min(axis=0)\n",
    "fu = nF.max(axis=0)\n",
    "print(f\"Scale f1: [{fl[0]}, {fu[0]}]\")\n",
    "print(f\"Scale f2: [{fl[1]}, {fu[1]}]\")\n",
    "\n",
    "plt.figure(figsize=(7, 5))\n",
    "plt.scatter(nF[:, 0], nF[:, 1], s=30, facecolors='none', edgecolors='blue')\n",
    "plt.title(\"Objective Space\")\n",
    "plt.show()"
   ]
  },
  {
   "cell_type": "markdown",
   "metadata": {},
   "source": [
    "# Compromise Programming"
   ]
  },
  {
   "cell_type": "code",
   "execution_count": 8,
   "metadata": {},
   "outputs": [
    {
     "name": "stdout",
     "output_type": "stream",
     "text": [
      "Best regarding ASF: Point \n",
      "i = 3\n",
      "F = [0.36491187 0.15701316]\n"
     ]
    },
    {
     "data": {
      "image/png": "[encoded data removed]",
      "text/plain": [
       "<Figure size 504x360 with 1 Axes>"
      ]
     },
     "metadata": {
      "needs_background": "light"
     },
     "output_type": "display_data"
    }
   ],
   "source": [
    "from pymoo.decomposition.asf import ASF\n",
    "\n",
    "weights = anp.array([0.2, 0.8])\n",
    "decomp = ASF()\n",
    "i = decomp.do(nF, 1/weights).argmin()\n",
    "\n",
    "print(\"Best regarding ASF: Point \\ni = %s\\nF = %s\" % (i, F[i]))\n",
    "\n",
    "plt.figure(figsize=(7, 5))\n",
    "plt.scatter(F[:, 0], F[:, 1], s=30, facecolors='none', edgecolors='blue')\n",
    "plt.scatter(F[i, 0], F[i, 1], marker=\"x\", color=\"red\", s=200)\n",
    "plt.title(\"Objective Space\")\n",
    "plt.show()"
   ]
  },
  {
   "cell_type": "markdown",
   "metadata": {},
   "source": [
    "# Pseudo-Weights"
   ]
  },
  {
   "cell_type": "code",
   "execution_count": 9,
   "metadata": {},
   "outputs": [
    {
     "name": "stdout",
     "output_type": "stream",
     "text": [
      "Best regarding Pseudo Weights: Point \n",
      "i = 4\n",
      "F = [0.64261171 0.03953894]\n"
     ]
    },
    {
     "data": {
      "image/png": "[encoded data removed]",
      "text/plain": [
       "<Figure size 504x360 with 1 Axes>"
      ]
     },
     "metadata": {
      "needs_background": "light"
     },
     "output_type": "display_data"
    }
   ],
   "source": [
    "from pymoo.mcdm.pseudo_weights import PseudoWeights\n",
    "\n",
    "i = PseudoWeights(weights).do(nF)\n",
    "\n",
    "print(\"Best regarding Pseudo Weights: Point \\ni = %s\\nF = %s\" % (i, F[i]))\n",
    "\n",
    "plt.figure(figsize=(7, 5))\n",
    "plt.scatter(F[:, 0], F[:, 1], s=30, facecolors='none', edgecolors='blue')\n",
    "plt.scatter(F[i, 0], F[i, 1], marker=\"x\", color=\"red\", s=200)\n",
    "plt.title(\"Objective Space\")\n",
    "plt.show()"
   ]
  }
 ],
 "metadata": {
  "kernelspec": {
   "display_name": "venv",
   "language": "python",
   "name": "python3"
  },
  "language_info": {
   "codemirror_mode": {
    "name": "ipython",
    "version": 3
   },
   "file_extension": ".py",
   "mimetype": "text/x-python",
   "name": "python",
   "nbconvert_exporter": "python",
   "pygments_lexer": "ipython3",
   "version": "3.8.8"
  },
  "orig_nbformat": 4
 },
 "nbformat": 4,
 "nbformat_minor": 2
}
