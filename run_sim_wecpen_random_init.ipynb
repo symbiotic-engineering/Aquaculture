{
 "cells": [
  {
   "cell_type": "markdown",
   "metadata": {},
   "source": [
    "# Optimization with random initialization"
   ]
  },
  {
   "cell_type": "code",
   "execution_count": 1,
   "metadata": {
    "scrolled": false
   },
   "outputs": [
    {
     "data": {
      "image/png": "[encoded data removed]",
      "text/plain": [
       "<Figure size 640x480 with 1 Axes>"
      ]
     },
     "metadata": {},
     "output_type": "display_data"
    },
    {
     "name": "stdout",
     "output_type": "stream",
     "text": [
      "True\n",
      "\u001b[1moptimal design variable:\u001b[0;0m\n",
      "   capture_width       8.919 [m]\n",
      "   pen_diameter       10.025 [m]\n",
      "   pen_height          3.000 [m]\n",
      "   spacing           278.666 [m]\n",
      "   stock_density      30.000 [kg/m^3]\n",
      "   pen_depth          13.029 [m]\n",
      "   es_size           372.287 [kWh]\n",
      "   num_pens           11.000 [-]\n",
      "----------------------------------------\n",
      "\u001b[1moptimal objective function terms:\u001b[0;0m\n",
      "   cost_per_yield      9.983 [$/kg]\n",
      "   price          663092.915 [$]\n",
      "   fish_yield      66423.361 [kg]\n",
      "----------------------------------------\n",
      "\u001b[1moptimal WEC rated power:\u001b[0;0m\n",
      "   P_rated         159.313 [kW]\n",
      "----------------------------------------\n",
      "\u001b[1moptimal Port to deployment location distance:\u001b[0;0m\n",
      "   distance         284.652 [km]\n",
      "----------------------------------------\n",
      "\u001b[1moptimal price break down:\u001b[0;0m\n",
      "   wec price            168716.419 [$]\n",
      "   pen price            260483.770 [$]\n",
      "   fish feed price      133003.013 [$]\n",
      "   energy st price      100889.712 [$]\n",
      "----------------------------------------\n",
      "\u001b[1moptimal constraints:\u001b[0;0m\n",
      "   P_gen_cons               -0.000 [kWh]\n",
      "   fish_yield_cons       62154.340 [kg]\n",
      "   env_Umin_cons             0.190 [m/s]\n",
      "   env_Umax_cons             1.800 [m/s]\n",
      "   env_tempmin_cons         14.000 [C]\n",
      "   env_tempmax_cons         12.000 [C]\n",
      "   env_salinitymin_cons      3.000 [PSU]\n",
      "   env_salinitymax_cons      2.000 [PSU]\n",
      "   env_O2_min_cons           3.590 [mg/l]\n",
      "----------------------------------------\n",
      "\u001b[1moptimal carrying capacity:\u001b[0;0m\n",
      "   TPF_O2               2195651.126 [kg fish/year]\n",
      "   Carrying Capacity    128577.702 [kg fish]\n",
      "----------------------------------------\n"
     ]
    }
   ],
   "source": [
    "import modules\n",
    "from modules import Aqua_Obj\n",
    "import optimization\n",
    "from utilities import *\n",
    "import numpy as np\n",
    "import importlib\n",
    "importlib.reload(modules)\n",
    "from matplotlib import pyplot as plt\n",
    "from matplotlib.ticker import FormatStrFormatter\n",
    "from sim_wecpen import *\n",
    "\n",
    "all_vars = ['x_wec','x_type_wec','x_pen', 'x_disc_pen', 'p_pen','x_env','p_wec','p_fish_salmon', 'x_es', 'p_es', 'pos_env', 'p_vessel']\n",
    "# with wave real data\n",
    "all_vars = all_vars  + ['p_wave_vec']\n",
    "# with wave average data\n",
    "#all_vars = all_vars  + ['x_wave_ave']\n",
    "\n",
    "fig, ax = plt.subplots(1,1)\n",
    "opt_res_history = []\n",
    "cons_history = []\n",
    "iteration_history = []\n",
    "\n",
    "x_init, p_init, x, res_best, p_best, op_obj = wecpen_opt(all_vars)\n",
    "\n",
    "iteration = np.linspace(1,max_iter+1,max_iter+1)\n",
    "    \n",
    "for n_test in range(100):\n",
    "    #set random x0\n",
    "    x0 = []\n",
    "    for i0 in range(len(x.bnds)):\n",
    "        x0.append(np.random.uniform(low=x.bnds[i0][0], high=x.bnds[i0][1]))\n",
    "\n",
    "    #optimization\n",
    "    x_init, p_init, x, res_best, p_best, op_obj = wecpen_opt(all_vars, x0)\n",
    "    \n",
    "    ax.plot(iteration, op_obj.f)\n",
    "    \n",
    "    opt_res_history.append(op_obj.f)\n",
    "    iteration_history.append(op_obj.count)\n",
    "    cons_history.append(op_obj.ineq)\n",
    "\n",
    "#plt.ylim([0, 100])\n",
    "plt.show()\n",
    "\n",
    "optimize_result(x.name, x.list, x.unit, res_best, p_best)"
   ]
  }
 ],
 "metadata": {
  "kernelspec": {
   "display_name": "Python 3.9.12 ('base')",
   "language": "python",
   "name": "python3"
  },
  "language_info": {
   "codemirror_mode": {
    "name": "ipython",
    "version": 3
   },
   "file_extension": ".py",
   "mimetype": "text/x-python",
   "name": "python",
   "nbconvert_exporter": "python",
   "pygments_lexer": "ipython3",
   "version": "3.9.12"
  },
  "vscode": {
   "interpreter": {
    "hash": "b73e368f810b6b8738085c018d1b5c90c75f8ea0c7544278c5262883b126363f"
   }
  }
 },
 "nbformat": 4,
 "nbformat_minor": 2
}
