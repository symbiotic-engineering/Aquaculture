{
 "cells": [
  {
   "cell_type": "code",
   "execution_count": 1,
   "id": "54bcfbe7",
   "metadata": {
    "scrolled": false
   },
   "outputs": [
    {
     "name": "stdout",
     "output_type": "stream",
     "text": [
      "\n",
      "ratio=  0.03 %\n",
      "\n",
      "Finding optimal x_wec & x_pen & x_es while holding x_env as parameter:\n",
      "\n",
      "\n",
      "                capture_width   pen_diameter   pen_height     spacing        stock_density   pen_depth      es_size      \n",
      "temp           |  0           |  0           |  0           |  0           |  0           |  0           |  0           |\n",
      "O2_in          |  0           |  0           |  0           |  0           |  0           |  0           |  0           |\n",
      "salinity       |  0           |  0           |  0           |  0           |  0           |  0           |  0           |\n",
      "U              |  0           |  0           |  0           |  0           |  0           |  0           |  0           |\n",
      "wave_height    | -2.000000    | -0.000000    | -0.000000    |  0           |  0           |  0           |  0           |\n",
      "wave_period    | -1.000000    |  0           | -0.000000    |  0           |  0           |  0           |  0           |\n"
     ]
    },
    {
     "name": "stderr",
     "output_type": "stream",
     "text": [
      "c:\\Users\\Arezoo_Admin\\AppData\\Local\\Programs\\miniconda3\\lib\\site-packages\\scipy\\optimize\\_minimize.py:517: VisibleDeprecationWarning: Creating an ndarray from ragged nested sequences (which is a list-or-tuple of lists-or-tuples-or ndarrays with different lengths or shapes) is deprecated. If you meant to do this, you must specify 'dtype=object' when creating the ndarray.\n",
      "  x0 = np.atleast_1d(np.asarray(x0))\n"
     ]
    },
    {
     "ename": "ValueError",
     "evalue": "setting an array element with a sequence.",
     "output_type": "error",
     "traceback": [
      "\u001b[1;31m---------------------------------------------------------------------------\u001b[0m",
      "\u001b[1;31mTypeError\u001b[0m                                 Traceback (most recent call last)",
      "\u001b[1;31mTypeError\u001b[0m: only size-1 arrays can be converted to Python scalars",
      "\nThe above exception was the direct cause of the following exception:\n",
      "\u001b[1;31mValueError\u001b[0m                                Traceback (most recent call last)",
      "\u001b[1;32mc:\\Users\\Arezoo_Admin\\VS_git\\Aquaculture\\param_sweep.ipynb Cell 1\u001b[0m in \u001b[0;36m<cell line: 94>\u001b[1;34m()\u001b[0m\n\u001b[0;32m     <a href='vscode-notebook-cell:/c%3A/Users/Arezoo_Admin/VS_git/Aquaculture/param_sweep.ipynb#W0sZmlsZQ%3D%3D?line=91'>92</a>\u001b[0m design_var \u001b[39m=\u001b[39m [\u001b[39m'\u001b[39m\u001b[39mx_env\u001b[39m\u001b[39m'\u001b[39m]\n\u001b[0;32m     <a href='vscode-notebook-cell:/c%3A/Users/Arezoo_Admin/VS_git/Aquaculture/param_sweep.ipynb#W0sZmlsZQ%3D%3D?line=92'>93</a>\u001b[0m parameter \u001b[39m=\u001b[39m [\u001b[39m'\u001b[39m\u001b[39mx_wec\u001b[39m\u001b[39m'\u001b[39m,\u001b[39m'\u001b[39m\u001b[39mx_pen\u001b[39m\u001b[39m'\u001b[39m, \u001b[39m'\u001b[39m\u001b[39mx_es\u001b[39m\u001b[39m'\u001b[39m]\n\u001b[1;32m---> <a href='vscode-notebook-cell:/c%3A/Users/Arezoo_Admin/VS_git/Aquaculture/param_sweep.ipynb#W0sZmlsZQ%3D%3D?line=93'>94</a>\u001b[0m dx_env_star_dx_wec_pen \u001b[39m=\u001b[39m sensitivity_sweep(parameter, design_var, all_vars)\n",
      "\u001b[1;32mc:\\Users\\Arezoo_Admin\\VS_git\\Aquaculture\\param_sweep.ipynb Cell 1\u001b[0m in \u001b[0;36msensitivity_sweep\u001b[1;34m(v1_name, v2_name, all_vars)\u001b[0m\n\u001b[0;32m     <a href='vscode-notebook-cell:/c%3A/Users/Arezoo_Admin/VS_git/Aquaculture/param_sweep.ipynb#W0sZmlsZQ%3D%3D?line=19'>20</a>\u001b[0m \u001b[39mdef\u001b[39;00m \u001b[39msensitivity_sweep\u001b[39m(v1_name, v2_name, all_vars):\n\u001b[0;32m     <a href='vscode-notebook-cell:/c%3A/Users/Arezoo_Admin/VS_git/Aquaculture/param_sweep.ipynb#W0sZmlsZQ%3D%3D?line=20'>21</a>\u001b[0m     \u001b[39m# v1: variable being swept, held constant for each optimization\u001b[39;00m\n\u001b[0;32m     <a href='vscode-notebook-cell:/c%3A/Users/Arezoo_Admin/VS_git/Aquaculture/param_sweep.ipynb#W0sZmlsZQ%3D%3D?line=21'>22</a>\u001b[0m     \u001b[39m# v2: variable being optimized\u001b[39;00m\n\u001b[0;32m     <a href='vscode-notebook-cell:/c%3A/Users/Arezoo_Admin/VS_git/Aquaculture/param_sweep.ipynb#W0sZmlsZQ%3D%3D?line=23'>24</a>\u001b[0m     param_list, param_val, param_unit, param_bnds, param_label \u001b[39m=\u001b[39m optimization\u001b[39m.\u001b[39mdefault_value(v1_name)\n\u001b[1;32m---> <a href='vscode-notebook-cell:/c%3A/Users/Arezoo_Admin/VS_git/Aquaculture/param_sweep.ipynb#W0sZmlsZQ%3D%3D?line=24'>25</a>\u001b[0m     res_opt, op_obj \u001b[39m=\u001b[39m optimization\u001b[39m.\u001b[39;49mrun_optimization(v2_name, [], v1_name, param_val, all_vars, max_iter)\n\u001b[0;32m     <a href='vscode-notebook-cell:/c%3A/Users/Arezoo_Admin/VS_git/Aquaculture/param_sweep.ipynb#W0sZmlsZQ%3D%3D?line=25'>26</a>\u001b[0m     v1_ratios \u001b[39m=\u001b[39m ratio_finder(res_opt\u001b[39m.\u001b[39mfun)\n\u001b[0;32m     <a href='vscode-notebook-cell:/c%3A/Users/Arezoo_Admin/VS_git/Aquaculture/param_sweep.ipynb#W0sZmlsZQ%3D%3D?line=26'>27</a>\u001b[0m     x_star \u001b[39m=\u001b[39m res_opt\u001b[39m.\u001b[39mx\n",
      "File \u001b[1;32mc:\\Users\\Arezoo_Admin\\VS_git\\Aquaculture\\optimization.py:103\u001b[0m, in \u001b[0;36mrun_optimization\u001b[1;34m(x_name, x_vals, p_name, p_vals, all_vars, max_iter)\u001b[0m\n\u001b[0;32m     98\u001b[0m     cons\u001b[39m.\u001b[39mappend(u)\n\u001b[0;32m    100\u001b[0m options\u001b[39m=\u001b[39m{\u001b[39m\"\u001b[39m\u001b[39mmaxiter\u001b[39m\u001b[39m\"\u001b[39m:max_iter}\n\u001b[1;32m--> 103\u001b[0m res \u001b[39m=\u001b[39m minimize(obj_fun, op_obj\u001b[39m.\u001b[39;49mx0, \n\u001b[0;32m    104\u001b[0m                args\u001b[39m=\u001b[39;49marguments, \n\u001b[0;32m    105\u001b[0m                \u001b[39m#method='COBYLA',\u001b[39;49;00m\n\u001b[0;32m    106\u001b[0m                method\u001b[39m=\u001b[39;49m\u001b[39m'\u001b[39;49m\u001b[39mSLSQP\u001b[39;49m\u001b[39m'\u001b[39;49m,\n\u001b[0;32m    107\u001b[0m                \u001b[39m#bounds=x_bnds, \u001b[39;49;00m\n\u001b[0;32m    108\u001b[0m                constraints\u001b[39m=\u001b[39;49mcons,\n\u001b[0;32m    109\u001b[0m                options\u001b[39m=\u001b[39;49moptions,\n\u001b[0;32m    110\u001b[0m                callback\u001b[39m=\u001b[39;49mpartial(cb, obj\u001b[39m=\u001b[39;49mop_obj))\n\u001b[0;32m    112\u001b[0m \u001b[39mreturn\u001b[39;00m res, op_obj\n",
      "File \u001b[1;32mc:\\Users\\Arezoo_Admin\\AppData\\Local\\Programs\\miniconda3\\lib\\site-packages\\scipy\\optimize\\_minimize.py:701\u001b[0m, in \u001b[0;36mminimize\u001b[1;34m(fun, x0, args, method, jac, hess, hessp, bounds, constraints, tol, callback, options)\u001b[0m\n\u001b[0;32m    698\u001b[0m     res \u001b[39m=\u001b[39m _minimize_cobyla(fun, x0, args, constraints, callback\u001b[39m=\u001b[39mcallback,\n\u001b[0;32m    699\u001b[0m                             \u001b[39m*\u001b[39m\u001b[39m*\u001b[39moptions)\n\u001b[0;32m    700\u001b[0m \u001b[39melif\u001b[39;00m meth \u001b[39m==\u001b[39m \u001b[39m'\u001b[39m\u001b[39mslsqp\u001b[39m\u001b[39m'\u001b[39m:\n\u001b[1;32m--> 701\u001b[0m     res \u001b[39m=\u001b[39m _minimize_slsqp(fun, x0, args, jac, bounds,\n\u001b[0;32m    702\u001b[0m                           constraints, callback\u001b[39m=\u001b[39mcallback, \u001b[39m*\u001b[39m\u001b[39m*\u001b[39moptions)\n\u001b[0;32m    703\u001b[0m \u001b[39melif\u001b[39;00m meth \u001b[39m==\u001b[39m \u001b[39m'\u001b[39m\u001b[39mtrust-constr\u001b[39m\u001b[39m'\u001b[39m:\n\u001b[0;32m    704\u001b[0m     res \u001b[39m=\u001b[39m _minimize_trustregion_constr(fun, x0, args, jac, hess, hessp,\n\u001b[0;32m    705\u001b[0m                                        bounds, constraints,\n\u001b[0;32m    706\u001b[0m                                        callback\u001b[39m=\u001b[39mcallback, \u001b[39m*\u001b[39m\u001b[39m*\u001b[39moptions)\n",
      "File \u001b[1;32mc:\\Users\\Arezoo_Admin\\AppData\\Local\\Programs\\miniconda3\\lib\\site-packages\\scipy\\optimize\\_slsqp_py.py:251\u001b[0m, in \u001b[0;36m_minimize_slsqp\u001b[1;34m(func, x0, args, jac, bounds, constraints, maxiter, ftol, iprint, disp, eps, callback, finite_diff_rel_step, **unknown_options)\u001b[0m\n\u001b[0;32m    248\u001b[0m     iprint \u001b[39m=\u001b[39m \u001b[39m0\u001b[39m\n\u001b[0;32m    250\u001b[0m \u001b[39m# Transform x0 into an array.\u001b[39;00m\n\u001b[1;32m--> 251\u001b[0m x \u001b[39m=\u001b[39m asfarray(x0)\u001b[39m.\u001b[39mflatten()\n\u001b[0;32m    253\u001b[0m \u001b[39m# SLSQP is sent 'old-style' bounds, 'new-style' bounds are required by\u001b[39;00m\n\u001b[0;32m    254\u001b[0m \u001b[39m# ScalarFunction\u001b[39;00m\n\u001b[0;32m    255\u001b[0m \u001b[39mif\u001b[39;00m bounds \u001b[39mis\u001b[39;00m \u001b[39mNone\u001b[39;00m \u001b[39mor\u001b[39;00m \u001b[39mlen\u001b[39m(bounds) \u001b[39m==\u001b[39m \u001b[39m0\u001b[39m:\n",
      "File \u001b[1;32m<__array_function__ internals>:180\u001b[0m, in \u001b[0;36masfarray\u001b[1;34m(*args, **kwargs)\u001b[0m\n",
      "File \u001b[1;32mc:\\Users\\Arezoo_Admin\\AppData\\Local\\Programs\\miniconda3\\lib\\site-packages\\numpy\\lib\\type_check.py:114\u001b[0m, in \u001b[0;36masfarray\u001b[1;34m(a, dtype)\u001b[0m\n\u001b[0;32m    112\u001b[0m \u001b[39mif\u001b[39;00m \u001b[39mnot\u001b[39;00m _nx\u001b[39m.\u001b[39missubdtype(dtype, _nx\u001b[39m.\u001b[39minexact):\n\u001b[0;32m    113\u001b[0m     dtype \u001b[39m=\u001b[39m _nx\u001b[39m.\u001b[39mfloat_\n\u001b[1;32m--> 114\u001b[0m \u001b[39mreturn\u001b[39;00m asarray(a, dtype\u001b[39m=\u001b[39;49mdtype)\n",
      "\u001b[1;31mValueError\u001b[0m: setting an array element with a sequence."
     ]
    }
   ],
   "source": [
    "import numpy as np\n",
    "import math\n",
    "import modules\n",
    "import optimization\n",
    "from scipy.optimize import minimize\n",
    "\n",
    "max_iter = 2000\n",
    "\n",
    "\n",
    "def ratio_finder(f):\n",
    "    \n",
    "    # Perturbation Size Δx Choice based on Gill et. al. 1983\n",
    "    eps = 1e-6\n",
    "    delta_X = math.sqrt(eps / abs(f))\n",
    "    \n",
    "    print('\\nratio= ', \"{:1.2f}\".format(delta_X*100), '%')\n",
    "    ratios = [1-delta_X/2, 1, 1+delta_X/2]\n",
    "    return ratios\n",
    "\n",
    "def sensitivity_sweep(v1_name, v2_name, all_vars):\n",
    "    # v1: variable being swept, held constant for each optimization\n",
    "    # v2: variable being optimized\n",
    "\n",
    "    param_list, param_val, param_unit, param_bnds, param_label = optimization.default_value(v1_name)\n",
    "    res_opt, op_obj = optimization.run_optimization(v2_name, [], v1_name, param_val, all_vars, max_iter)\n",
    "    v1_ratios = ratio_finder(res_opt.fun)\n",
    "    x_star = res_opt.x\n",
    "    \n",
    "    v1_list, v1_nom, v1_unit, v1_bnds, v1_label = optimization.default_value(v1_name)\n",
    "    v2_list, v2_nom, v2_unit, v2_bnds, v2_label = optimization.default_value(v2_name)\n",
    "    \n",
    "    num_v1 = len(v1_list)\n",
    "    num_v2 = len(v2_list)\n",
    "    num_ratios = len(v1_ratios)\n",
    "    \n",
    "    v2_star = np.zeros(shape=(num_v1,num_ratios,num_v2))\n",
    "    dv2_star_dv1 = np.zeros(shape=(num_v1,num_v2))\n",
    "\n",
    "    desc = '\\nFinding optimal '+ v2_label + ' while holding '+ v1_label + ' as parameter:'\n",
    "    print(desc)\n",
    "    #print('ratio=', v1_ratios)\n",
    "    \n",
    "    for i in range(num_v1):\n",
    "        for j in range(num_ratios):\n",
    "            v1 = dict. copy(v1_nom)\n",
    "            v1[v1_list[i]] = v1_nom[v1_list[i]] * v1_ratios[j]\n",
    "            print(v2_name)\n",
    "            print(x_star)\n",
    "            print(v1_name)\n",
    "            print(v1)\n",
    "            print('&&&&&&&&&&&&')\n",
    "            res_opt, op_obj = optimization.run_optimization(v2_name, x_star, v1_name, v1, all_vars, max_iter)\n",
    "            if res_opt.success:\n",
    "                v2_star[i,j,:] = res_opt['x']\n",
    "            else:\n",
    "                v2_star[i,j,:] = np.nan\n",
    "                print('failing for:',v1)\n",
    "            #print('>>>>>',v2_star[i,j,:])\n",
    "            \n",
    "\n",
    "        idx_nom = v1_ratios.index(1)\n",
    "        dv2_star = np.divide((v2_star[i,-1,:] - v2_star[i,0,:]), v2_star[i,idx_nom,:])\n",
    "        dv2_star_dv1[i,:] = dv2_star / (v1_ratios[-1] - v1_ratios[0])    \n",
    "\n",
    "    # print result in a table format\n",
    "    print('\\n')\n",
    "    col_width = len(max(v2_list+v1_list, key=len)) + 1\n",
    "    print(' '*col_width, end='')\n",
    "    for i in range(num_v2):\n",
    "        print(' ',v2_list[i], ' '*(col_width-len(v2_list[i])-2),end='')\n",
    "    print('')\n",
    "    for i in range(num_v1):\n",
    "        print(v1_list[i], ' '*(col_width-len(v1_list[i])),end='|')\n",
    "        for j in range(num_v2):\n",
    "            if (dv2_star_dv1[i,j] == 0):\n",
    "                print('  0', ' '*(col_width-4),end='|')\n",
    "            elif np.isnan(dv2_star_dv1[i,j]):\n",
    "                print(\"  \\x1b[31mFailed\\x1b[0m\", ' '*(col_width-9),end='|')\n",
    "            else:\n",
    "                print(\"{:10.6f}\".format(dv2_star_dv1[i,j]), ' '*(col_width-11),end='|')\n",
    "        print('')\n",
    "        \n",
    "    return dv2_star_dv1\n",
    "\n",
    "\n",
    "all_vars = ['x_wec','x_type_wec','x_pen', 'x_disc_pen', 'p_pen','x_env','p_wec','p_fish_salmon', 'x_es', 'p_es']\n",
    "\n",
    "\n",
    "# sensitivity of optimal wec and pen design to environment/location\n",
    "design_var = ['x_wec','x_pen', 'x_es']\n",
    "parameter = ['x_env']\n",
    "dx_wec_pen_star_dx_env = sensitivity_sweep(parameter, design_var, all_vars)\n",
    "#print('\\n\\ndx_wec_pen_star_dx_env=\\n', dx_wec_pen_star_dx_env)\n",
    "#print('\\n*************************************************\\n\\n')\n",
    "\n",
    "# sensitivity of optimal environment/location to wec and pen design\n",
    "design_var = ['x_env']\n",
    "parameter = ['x_wec','x_pen', 'x_es']\n",
    "dx_env_star_dx_wec_pen = sensitivity_sweep(parameter, design_var, all_vars)\n",
    "#print('\\n\\ndx_env_star_dx_wec_pen=\\n', dx_env_star_dx_wec_pen)\n",
    "#print('\\n*************************************************\\n\\n')"
   ]
  },
  {
   "cell_type": "code",
   "execution_count": null,
   "id": "d48245d5",
   "metadata": {},
   "outputs": [],
   "source": []
  }
 ],
 "metadata": {
  "kernelspec": {
   "display_name": "Python 3.9.12 ('base')",
   "language": "python",
   "name": "python3"
  },
  "language_info": {
   "codemirror_mode": {
    "name": "ipython",
    "version": 3
   },
   "file_extension": ".py",
   "mimetype": "text/x-python",
   "name": "python",
   "nbconvert_exporter": "python",
   "pygments_lexer": "ipython3",
   "version": "3.9.12"
  },
  "vscode": {
   "interpreter": {
    "hash": "b73e368f810b6b8738085c018d1b5c90c75f8ea0c7544278c5262883b126363f"
   }
  }
 },
 "nbformat": 4,
 "nbformat_minor": 5
}
