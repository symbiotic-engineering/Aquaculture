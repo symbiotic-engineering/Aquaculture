{
 "cells": [
  {
   "cell_type": "markdown",
   "id": "c87058df-bdf2-4292-a068-9dacf126ed26",
   "metadata": {},
   "source": [
    "# GIS Example File\n",
    "This file serves as an example for the GIS handler used to integrate GIS data with Python models. The handler can be loaded from the cell below, for use in a notebook, or from the `gis_handler.py` file which is identical. The examples in this file demonstrate possible ways to use the handler in modeling."
   ]
  },
  {
   "cell_type": "markdown",
   "id": "886126a6-288f-4930-8526-a63707013e92",
   "metadata": {},
   "source": [
    "## Setup"
   ]
  },
  {
   "cell_type": "code",
   "execution_count": 1,
   "id": "b9bb8b98-83f0-476d-9626-ec6121a797a9",
   "metadata": {},
   "outputs": [],
   "source": [
    "# import packages required for the examples\n",
    "import matplotlib.pyplot as plt\n",
    "import rasterio.plot"
   ]
  },
  {
   "cell_type": "code",
   "execution_count": 2,
   "id": "153bfb10-30a7-49e2-abf2-402c399827bb",
   "metadata": {},
   "outputs": [],
   "source": [
    "# specify plot settings such as figure size\n",
    "plt.rcParams[\"figure.figsize\"] = [10,8]\n",
    "%config InlineBackend.figure_format = 'retina'"
   ]
  },
  {
   "cell_type": "markdown",
   "id": "df703785-4d8c-44a5-9833-658bb4947084",
   "metadata": {},
   "source": [
    "## Handler"
   ]
  },
  {
   "cell_type": "code",
   "execution_count": 3,
   "id": "6e673dba-2e20-472b-8432-12a604a2542e",
   "metadata": {},
   "outputs": [],
   "source": [
    "# Python GIS Handler\n",
    "# SEA Lab at Cornell University, last updated: 4/24/23\n",
    "\n",
    "# import necessary packages, namely geopandas and rasterio\n",
    "import geopandas as gpd\n",
    "import rasterio\n",
    "from shapely.geometry import Point\n",
    "import warnings\n",
    "from shapely.errors import ShapelyDeprecationWarning\n",
    "\n",
    "# ignore shapely 1.8 deprecation warnings\n",
    "warnings.filterwarnings(\"ignore\", category=ShapelyDeprecationWarning)\n",
    "precision = 5 # precision of input coordinates to prevent duplicate calls, 5dec~1.1m\n",
    "\n",
    "class GISHandler:\n",
    "    \"\"\"A class to handle GIS data and optimizer points.\"\"\"\n",
    "        \n",
    "    def __init__(self, conditions, conflicts, scope):\n",
    "        \"\"\"Initializes handler by creating a GeoDataFrame to store point measurement data and a dictionary of loaded raster files.\"\"\"\n",
    "        self.conditions = {}\n",
    "        self.conflicts = {}\n",
    "        self.scope = gpd.read_file(scope)\n",
    "        # create initial geodataframe with anticipated fields\n",
    "        self.points = gpd.GeoDataFrame(columns=['x', 'y', 'geometry', 'result', 'ok-conditions', 'ok-scope', 'ok-conflicts'], geometry='geometry')\n",
    "    \n",
    "        # check if raster already loaded as a condition, otherwise read source\n",
    "        for key, src in conditions.items():\n",
    "            if key in self.conditions:\n",
    "                print('raster {} already loaded!'.format(key))\n",
    "            else:\n",
    "                self.conditions[key] = rasterio.open(src)\n",
    "        \n",
    "        # check if vector already loaded as a conflict, otherwise read source\n",
    "        for key, src in conflicts.items():\n",
    "            if key in self.conflicts:\n",
    "                print('vector {} already loaded!'.format(key))\n",
    "            else:\n",
    "                self.conflicts[key] = gpd.read_file(src)\n",
    "                \n",
    "        # calculate boundaries of loaded files\n",
    "        self.extent = self.extent()\n",
    "    \n",
    "    def query(self, x, y):\n",
    "        \"\"\"Gets condition data for a specified geography location (lon/lat), stores it in the GeoDataFrame, and returns the row.\"\"\"\n",
    "        x, y = self.coordinate(x, y)\n",
    "                                \n",
    "        # check if point has already been queried\n",
    "        if not self.points.loc[(self.points.x==x) & (self.points.y==y)].empty:\n",
    "            #print('point exists, returning original data')\n",
    "            return self.points.loc[(self.points.x==x) & (self.points.y==y)]\n",
    "        \n",
    "        point = Point(x, y)\n",
    "        conditions = {'x': x, 'y': y, 'geometry': point, 'ok-conditions': True, 'ok-scope': False, 'ok-conflicts': True}\n",
    "        \n",
    "        # check if point is offshore in desired scope\n",
    "        for polygon in self.scope['geometry']:\n",
    "            if point.intersects(polygon):\n",
    "                conditions['ok-scope'] = True\n",
    "        \n",
    "        # check if point intersects with any of the conflicts loaded as vectors\n",
    "        for key, vector in self.conflicts.items():\n",
    "            for polygon in vector['geometry']:\n",
    "                if point.intersects(polygon):\n",
    "                    conditions['ok-conflicts'] = False\n",
    "        \n",
    "        # check if point exists for all condition datasets, and pull condition data for point\n",
    "        for key, raster in self.conditions.items():\n",
    "            index = raster.index(x, y)\n",
    "            try:\n",
    "                conditions[key] = raster.read(1)[index] # yes, by default this only reads the first band, but this is probably okay\n",
    "                if conditions[key] == 0: # yes, this assumes that zero is not a valid value. this is true for our current rasters, but isn't necessarily correct\n",
    "                    conditions['ok-conditions'] = False\n",
    "            except IndexError as error:\n",
    "                print('failed to read {} raster: {}'.format(key, error))\n",
    "                conditions['ok-conditions'] = False\n",
    "        \n",
    "        self.points = self.points.append(conditions, ignore_index=True)\n",
    "        return self.points.iloc[-1:]\n",
    "    \n",
    "    def record(self, x, y, value):\n",
    "        \"\"\"Records a computed value from the optimizer to a geographic point, returns row recorded to.\"\"\"\n",
    "        x, y = self.coordinate(x, y)\n",
    "        \n",
    "        if not self.points.loc[(self.points.x==x) & (self.points.y==y)].empty:\n",
    "            self.points.loc[(self.points.x==x) & (self.points.y==y), 'result'] = value\n",
    "            return self.points.loc[(self.points.x==x) & (self.points.y==y)]\n",
    "        \n",
    "        conditions = {'x': x, 'y': y, 'geometry': Point(x, y), 'result': value}\n",
    "        self.points = self.points.append(conditions, ignore_index=True)\n",
    "        return self.points.iloc[-1:]\n",
    "    \n",
    "    def query_grid(self, x_min, x_max, y_min, y_max, xy_delta):\n",
    "        \"\"\"Iteratively builds a grid of points with desired bounds and resolution for brute-force analysis.\"\"\"\n",
    "        self.grid = gpd.GeoDataFrame(columns=['x', 'y', 'geometry', 'result', 'ok-conditions', 'ok-scope', 'ok-conflicts'], geometry='geometry')\n",
    "        \n",
    "        x = x_min\n",
    "        y = y_min\n",
    "        while x <= x_max:\n",
    "            while y <= y_max:\n",
    "                self.query(x, y)\n",
    "                y += xy_delta\n",
    "            y=y_min\n",
    "            x += xy_delta\n",
    "    \n",
    "    def save(self, name):\n",
    "        \"\"\"Saves all loaded points and values into GIS format.\"\"\"\n",
    "        self.points.to_file(name, driver='GeoJSON')\n",
    "        \n",
    "    def load(self, name):\n",
    "        \"\"\"Loads previously saved points from GIS file.\"\"\"\n",
    "        self.points = gpd.read_file(name)\n",
    "        \n",
    "    def coordinate(self, x, y):\n",
    "        \"\"\"Rounds coordinates to given precision to prevent uneccessary duplication. In the future could handle projections.\"\"\"\n",
    "        return round(x, precision), round(y, precision)\n",
    "    \n",
    "    def extent(self):\n",
    "        \"\"\"Calculates largest rectangular extent that includes data from all loaded rasters.\"\"\"\n",
    "        \n",
    "        extent = [-180, 180, -90, 90] # format: [W, E, S, N]\n",
    "        for src in self.conditions.values():\n",
    "            extent = [max(extent[0], src.bounds[0]), min(extent[1], src.bounds[2]), max(extent[2], src.bounds[1]), min(extent[3], src.bounds[3])]\n",
    "            \n",
    "        return extent"
   ]
  },
  {
   "cell_type": "markdown",
   "id": "6243ac71-3498-46f0-bd97-39cf4c7f7715",
   "metadata": {},
   "source": [
    "## Example Usage"
   ]
  },
  {
   "cell_type": "markdown",
   "id": "6f248d5d-3b95-4618-8eed-ff4a5ce49724",
   "metadata": {},
   "source": [
    "### Load conditions (rasters), conflicts (vectors), and scope (vector)"
   ]
  },
  {
   "cell_type": "code",
   "execution_count": 4,
   "id": "f7ba2149-e8f5-44eb-8db9-ba1cf64039de",
   "metadata": {},
   "outputs": [],
   "source": [
    "# specify raster files with conditions\n",
    "conditions = {'current [m/s]': '../data/Surface Currents m-s (NODP 2016).tif',\n",
    "              'oxygen [mg/l]': '../data/Surface Oxygen mg-l (NCEI 2019).tif',\n",
    "              'salinity [PSU]': '../data/Surface Salinity PSU (NCEI 2019).tif',\n",
    "              'temperature [°C]': '../data/Surface Temperature C (NODP 2016).tif',\n",
    "              'period [s]': '../data/Wave Energy Period s (NREL 2011).tif',\n",
    "              'height [m]': '../data/Significant Wave Height m (NREL 2011).tif',\n",
    "              'bathymetry [m]': '../data/Bathymetry Downsampled m (NGDC 1990).tif',\n",
    "              'distance to port [m]': '../data/Distance to Port m (OCM 2019).tif'}\n",
    "\n",
    "# specify vector files with conflicts\n",
    "# high fishing is above average, very high is more than one standard deviation above average\n",
    "conflicts = {'very high fishing traffic': '../data/Very High Fishing Vessel Traffic (NODP 2022).geojson',\n",
    "#            'high fishing traffic': '../data/High Fishing Vessel Traffic.geojson',\n",
    "             'marine protected areas': '../data/Marine Protected Areas (NMPAC 2020).geojson',\n",
    "             'danger zones': '../data/Danger Zones and Restricted Areas (OCM 2022).geojson',\n",
    "             'submarine': '../data/Submarine Transit Lanes (NODP 2016).geojson',\n",
    "             'torpex': '../data/Cape Cod TORPEX (NODP 2016).geojson',\n",
    "             'block island': '../data/Block Island Renewable Energy Zone (NODP 2010).geojson',\n",
    "             'ma wind': '../data/MA Wind Energy Areas (NODP 2015).geojson',\n",
    "             'wind lease': '../data/Potential Wind Lease Areas (BOEM 2023).geojson',\n",
    "             'wind planning': '../data/Wind Planning Areas (BOEM 2023).geojson',\n",
    "             'shipping': '../data/Shipping Lanes (OCS 2015).geojson'}\n",
    "\n",
    "# specify vector file with desired scope\n",
    "waters = \"../data/Northeast State and Federal Waters (OCM 2018).geojson\"\n",
    "\n",
    "# create handler object given specified files to load\n",
    "handler = GISHandler(conditions, conflicts, waters)"
   ]
  },
  {
   "cell_type": "markdown",
   "id": "6505132f-c6d2-4cf9-bc9b-03dfe8352a20",
   "metadata": {},
   "source": [
    "### Basic Operations"
   ]
  },
  {
   "cell_type": "markdown",
   "id": "54189978-d9d5-40e2-9c55-235a721c6bce",
   "metadata": {},
   "source": [
    "#### Print Extent"
   ]
  },
  {
   "cell_type": "code",
   "execution_count": 5,
   "id": "f77a070c-65a2-4df4-9bf7-0bd12243b0f6",
   "metadata": {},
   "outputs": [
    {
     "name": "stdout",
     "output_type": "stream",
     "text": [
      "Extent: W -75.766660333 E -65.701105095 S 38.500067 N 45.166667\n"
     ]
    }
   ],
   "source": [
    "print('Extent: W', handler.extent[0], 'E', handler.extent[1], 'S', handler.extent[2], 'N', handler.extent[3])"
   ]
  },
  {
   "cell_type": "markdown",
   "id": "5e3a2ae3-a603-4653-80a6-8d76e2d661d9",
   "metadata": {},
   "source": [
    "#### Query Point in Format (longitude, latitude) to Get Data"
   ]
  },
  {
   "cell_type": "code",
   "execution_count": 6,
   "id": "5039dca7-4720-45cb-90eb-71ed9b14784e",
   "metadata": {},
   "outputs": [
    {
     "ename": "AttributeError",
     "evalue": "'GeoDataFrame' object has no attribute 'append'",
     "output_type": "error",
     "traceback": [
      "\u001b[0;31m---------------------------------------------------------------------------\u001b[0m",
      "\u001b[0;31mAttributeError\u001b[0m                            Traceback (most recent call last)",
      "\u001b[0;32m/var/folders/ky/d11qkkvj0g151c_msx0ghxkh0000gn/T/ipykernel_58593/318190067.py\u001b[0m in \u001b[0;36m?\u001b[0;34m()\u001b[0m\n\u001b[0;32m----> 1\u001b[0;31m \u001b[0mhandler\u001b[0m\u001b[0;34m.\u001b[0m\u001b[0mquery\u001b[0m\u001b[0;34m(\u001b[0m\u001b[0;34m-\u001b[0m\u001b[0;36m70.154\u001b[0m\u001b[0;34m,\u001b[0m \u001b[0;36m42.203\u001b[0m\u001b[0;34m)\u001b[0m\u001b[0;34m\u001b[0m\u001b[0;34m\u001b[0m\u001b[0m\n\u001b[0m",
      "\u001b[0;32m/var/folders/ky/d11qkkvj0g151c_msx0ghxkh0000gn/T/ipykernel_58593/1269385754.py\u001b[0m in \u001b[0;36m?\u001b[0;34m(self, x, y)\u001b[0m\n\u001b[1;32m     73\u001b[0m             \u001b[0;32mexcept\u001b[0m \u001b[0mIndexError\u001b[0m \u001b[0;32mas\u001b[0m \u001b[0merror\u001b[0m\u001b[0;34m:\u001b[0m\u001b[0;34m\u001b[0m\u001b[0;34m\u001b[0m\u001b[0m\n\u001b[1;32m     74\u001b[0m                 \u001b[0mprint\u001b[0m\u001b[0;34m(\u001b[0m\u001b[0;34m'failed to read {} raster: {}'\u001b[0m\u001b[0;34m.\u001b[0m\u001b[0mformat\u001b[0m\u001b[0;34m(\u001b[0m\u001b[0mkey\u001b[0m\u001b[0;34m,\u001b[0m \u001b[0merror\u001b[0m\u001b[0;34m)\u001b[0m\u001b[0;34m)\u001b[0m\u001b[0;34m\u001b[0m\u001b[0;34m\u001b[0m\u001b[0m\n\u001b[1;32m     75\u001b[0m                 \u001b[0mconditions\u001b[0m\u001b[0;34m[\u001b[0m\u001b[0;34m'ok-conditions'\u001b[0m\u001b[0;34m]\u001b[0m \u001b[0;34m=\u001b[0m \u001b[0;32mFalse\u001b[0m\u001b[0;34m\u001b[0m\u001b[0;34m\u001b[0m\u001b[0m\n\u001b[1;32m     76\u001b[0m \u001b[0;34m\u001b[0m\u001b[0m\n\u001b[0;32m---> 77\u001b[0;31m         \u001b[0mself\u001b[0m\u001b[0;34m.\u001b[0m\u001b[0mpoints\u001b[0m \u001b[0;34m=\u001b[0m \u001b[0mself\u001b[0m\u001b[0;34m.\u001b[0m\u001b[0mpoints\u001b[0m\u001b[0;34m.\u001b[0m\u001b[0mappend\u001b[0m\u001b[0;34m(\u001b[0m\u001b[0mconditions\u001b[0m\u001b[0;34m,\u001b[0m \u001b[0mignore_index\u001b[0m\u001b[0;34m=\u001b[0m\u001b[0;32mTrue\u001b[0m\u001b[0;34m)\u001b[0m\u001b[0;34m\u001b[0m\u001b[0;34m\u001b[0m\u001b[0m\n\u001b[0m\u001b[1;32m     78\u001b[0m         \u001b[0;32mreturn\u001b[0m \u001b[0mself\u001b[0m\u001b[0;34m.\u001b[0m\u001b[0mpoints\u001b[0m\u001b[0;34m.\u001b[0m\u001b[0miloc\u001b[0m\u001b[0;34m[\u001b[0m\u001b[0;34m-\u001b[0m\u001b[0;36m1\u001b[0m\u001b[0;34m:\u001b[0m\u001b[0;34m]\u001b[0m\u001b[0;34m\u001b[0m\u001b[0;34m\u001b[0m\u001b[0m\n",
      "\u001b[0;32m/usr/local/anaconda3/envs/imta/lib/python3.9/site-packages/pandas/core/generic.py\u001b[0m in \u001b[0;36m?\u001b[0;34m(self, name)\u001b[0m\n\u001b[1;32m   6200\u001b[0m             \u001b[0;32mand\u001b[0m \u001b[0mname\u001b[0m \u001b[0;32mnot\u001b[0m \u001b[0;32min\u001b[0m \u001b[0mself\u001b[0m\u001b[0;34m.\u001b[0m\u001b[0m_accessors\u001b[0m\u001b[0;34m\u001b[0m\u001b[0;34m\u001b[0m\u001b[0m\n\u001b[1;32m   6201\u001b[0m             \u001b[0;32mand\u001b[0m \u001b[0mself\u001b[0m\u001b[0;34m.\u001b[0m\u001b[0m_info_axis\u001b[0m\u001b[0;34m.\u001b[0m\u001b[0m_can_hold_identifiers_and_holds_name\u001b[0m\u001b[0;34m(\u001b[0m\u001b[0mname\u001b[0m\u001b[0;34m)\u001b[0m\u001b[0;34m\u001b[0m\u001b[0;34m\u001b[0m\u001b[0m\n\u001b[1;32m   6202\u001b[0m         ):\n\u001b[1;32m   6203\u001b[0m             \u001b[0;32mreturn\u001b[0m \u001b[0mself\u001b[0m\u001b[0;34m[\u001b[0m\u001b[0mname\u001b[0m\u001b[0;34m]\u001b[0m\u001b[0;34m\u001b[0m\u001b[0;34m\u001b[0m\u001b[0m\n\u001b[0;32m-> 6204\u001b[0;31m         \u001b[0;32mreturn\u001b[0m \u001b[0mobject\u001b[0m\u001b[0;34m.\u001b[0m\u001b[0m__getattribute__\u001b[0m\u001b[0;34m(\u001b[0m\u001b[0mself\u001b[0m\u001b[0;34m,\u001b[0m \u001b[0mname\u001b[0m\u001b[0;34m)\u001b[0m\u001b[0;34m\u001b[0m\u001b[0;34m\u001b[0m\u001b[0m\n\u001b[0m",
      "\u001b[0;31mAttributeError\u001b[0m: 'GeoDataFrame' object has no attribute 'append'"
     ]
    }
   ],
   "source": [
    "handler.query(-70.154, 42.203)"
   ]
  },
  {
   "cell_type": "code",
   "execution_count": null,
   "id": "9f0f69f6-9fe3-49e3-896e-ec7e099f2e3f",
   "metadata": {},
   "outputs": [],
   "source": [
    "handler.query(-72, 41.2)"
   ]
  },
  {
   "cell_type": "markdown",
   "id": "cd8d71f8-d2b8-4bbc-a47a-5c1c9663f2f4",
   "metadata": {},
   "source": [
    "#### Record Result of Model into GeoDataFrame"
   ]
  },
  {
   "cell_type": "code",
   "execution_count": null,
   "id": "b1a58bbc-dd48-4212-b4a8-d1c663ff7fe8",
   "metadata": {},
   "outputs": [],
   "source": [
    "# example result from model: 10\n",
    "handler.record(-72, 41.2, 10)"
   ]
  },
  {
   "cell_type": "markdown",
   "id": "d438245e-6356-4d14-bf48-d8f1dacd8d18",
   "metadata": {},
   "source": [
    "#### Generate a Grid of Points"
   ]
  },
  {
   "cell_type": "code",
   "execution_count": null,
   "id": "2d3d5c53-550b-4203-8334-d6730ecc48c6",
   "metadata": {},
   "outputs": [],
   "source": [
    "%%time\n",
    "handler.query_grid(-72, -68, 40, 44, 1)"
   ]
  },
  {
   "cell_type": "markdown",
   "id": "6e1dd697-29e6-4f18-9d1d-27352da1ce82",
   "metadata": {},
   "source": [
    "#### Save Results to File"
   ]
  },
  {
   "cell_type": "code",
   "execution_count": null,
   "id": "3e3e22db-81a7-4279-882b-ed5519e6832c",
   "metadata": {},
   "outputs": [],
   "source": [
    "handler.save('saved.geojson')"
   ]
  },
  {
   "cell_type": "markdown",
   "id": "85e1fd21-afee-4426-a612-e8da6b68057e",
   "metadata": {},
   "source": [
    "### Show Results with Tables and Maps"
   ]
  },
  {
   "cell_type": "code",
   "execution_count": null,
   "id": "d399cf6d-9e24-4d03-98bd-616c7ab4c41f",
   "metadata": {},
   "outputs": [],
   "source": [
    "handler.points"
   ]
  },
  {
   "cell_type": "code",
   "execution_count": null,
   "id": "bc66e4a8-f62a-40a7-87dc-8ae2a7f2b0a6",
   "metadata": {},
   "outputs": [],
   "source": [
    "fig, ax = plt.subplots(2, 2)\n",
    "rasterio.plot.show(handler.conditions['height [m]'], ax=ax[0,0], title='Wave Height [m]')\n",
    "rasterio.plot.show(handler.conditions['distance to port [m]'], ax=ax[0,1], title='Distance to Port [m]')\n",
    "rasterio.plot.show(handler.conditions['bathymetry [m]'], ax=ax[1,0], title='Bathymetry [m]')\n",
    "rasterio.plot.show(handler.conditions['temperature [°C]'], ax=ax[1,1], title='Temperature [°C]')\n",
    "\n",
    "for i in ax:\n",
    "    for j in i:\n",
    "        handler.points.plot(ax=j, color='red')"
   ]
  },
  {
   "cell_type": "code",
   "execution_count": null,
   "id": "976e3a3f-f4e1-4aaf-ba52-c9237c40c995",
   "metadata": {},
   "outputs": [],
   "source": [
    "%%time\n",
    "fig, ax = plt.subplots()\n",
    "handler.scope.plot(edgecolor='black', color='white', ax=ax)\n",
    "for gdf in handler.conflicts.values():\n",
    "    gdf.plot(ax=ax)\n",
    "handler.points.plot(ax=ax, color='red')"
   ]
  }
 ],
 "metadata": {
  "kernelspec": {
   "display_name": "Python [conda env:imta]",
   "language": "python",
   "name": "conda-env-imta-py"
  },
  "language_info": {
   "codemirror_mode": {
    "name": "ipython",
    "version": 3
   },
   "file_extension": ".py",
   "mimetype": "text/x-python",
   "name": "python",
   "nbconvert_exporter": "python",
   "pygments_lexer": "ipython3",
   "version": "3.9.18"
  },
  "vscode": {
   "interpreter": {
    "hash": "f45d08b7a9b25f79d4c95b3772aabd5b9ceb099078bbe05ee2c74c835de347d6"
   }
  }
 },
 "nbformat": 4,
 "nbformat_minor": 5
}
