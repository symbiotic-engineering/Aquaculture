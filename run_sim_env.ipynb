{
 "cells": [
  {
   "cell_type": "code",
   "execution_count": 1,
   "metadata": {},
   "outputs": [
    {
     "ename": "KeyboardInterrupt",
     "evalue": "",
     "output_type": "error",
     "traceback": [
      "\u001b[0;31m---------------------------------------------------------------------------\u001b[0m",
      "\u001b[0;31mKeyboardInterrupt\u001b[0m                         Traceback (most recent call last)",
      "\u001b[0;32m<ipython-input-1-23eb9b2eb984>\u001b[0m in \u001b[0;36m<module>\u001b[0;34m\u001b[0m\n\u001b[1;32m     40\u001b[0m \u001b[0;32mif\u001b[0m \u001b[0mbrute_force\u001b[0m\u001b[0;34m:\u001b[0m\u001b[0;34m\u001b[0m\u001b[0;34m\u001b[0m\u001b[0m\n\u001b[1;32m     41\u001b[0m     \u001b[0margs\u001b[0m\u001b[0;34m[\u001b[0m\u001b[0;34m'grid_resolution'\u001b[0m\u001b[0;34m]\u001b[0m \u001b[0;34m=\u001b[0m \u001b[0;36m0.01\u001b[0m\u001b[0;34m\u001b[0m\u001b[0;34m\u001b[0m\u001b[0m\n\u001b[0;32m---> 42\u001b[0;31m     \u001b[0mbest_x_total\u001b[0m\u001b[0;34m,\u001b[0m \u001b[0maqua_obj_best_total\u001b[0m\u001b[0;34m,\u001b[0m \u001b[0mp_best\u001b[0m\u001b[0;34m,\u001b[0m \u001b[0mbest_x_without_conflict\u001b[0m\u001b[0;34m,\u001b[0m \u001b[0maqua_obj_best_without_conflict\u001b[0m \u001b[0;34m=\u001b[0m \u001b[0menv_bruteforce\u001b[0m\u001b[0;34m(\u001b[0m\u001b[0mall_vars\u001b[0m\u001b[0;34m,\u001b[0m \u001b[0margs\u001b[0m\u001b[0;34m)\u001b[0m\u001b[0;34m\u001b[0m\u001b[0;34m\u001b[0m\u001b[0m\n\u001b[0m\u001b[1;32m     43\u001b[0m     \u001b[0mbruteforce_result\u001b[0m\u001b[0;34m(\u001b[0m\u001b[0;34m\"without conflict consideration\"\u001b[0m\u001b[0;34m,\u001b[0m \u001b[0mbest_x_total\u001b[0m\u001b[0;34m,\u001b[0m \u001b[0maqua_obj_best_total\u001b[0m\u001b[0;34m,\u001b[0m \u001b[0mp_best\u001b[0m\u001b[0;34m)\u001b[0m\u001b[0;34m\u001b[0m\u001b[0;34m\u001b[0m\u001b[0m\n\u001b[1;32m     44\u001b[0m     \u001b[0mbruteforce_result\u001b[0m\u001b[0;34m(\u001b[0m\u001b[0;34m\"with conflict consideration\"\u001b[0m\u001b[0;34m,\u001b[0m \u001b[0mbest_x_without_conflict\u001b[0m\u001b[0;34m,\u001b[0m \u001b[0maqua_obj_best_without_conflict\u001b[0m\u001b[0;34m,\u001b[0m \u001b[0mp_best\u001b[0m\u001b[0;34m)\u001b[0m\u001b[0;34m\u001b[0m\u001b[0;34m\u001b[0m\u001b[0m\n",
      "\u001b[0;32m~/VS Code/Aquaculture/env_bruteforce.py\u001b[0m in \u001b[0;36menv_bruteforce\u001b[0;34m(all_vars, *args)\u001b[0m\n\u001b[1;32m     94\u001b[0m         \u001b[0;32mfor\u001b[0m \u001b[0mpos_lat\u001b[0m \u001b[0;32min\u001b[0m \u001b[0;34m(\u001b[0m\u001b[0mlat_grid\u001b[0m\u001b[0;34m)\u001b[0m\u001b[0;34m:\u001b[0m\u001b[0;34m\u001b[0m\u001b[0;34m\u001b[0m\u001b[0m\n\u001b[1;32m     95\u001b[0m             \u001b[0;32mfor\u001b[0m \u001b[0mpos_long\u001b[0m \u001b[0;32min\u001b[0m \u001b[0;34m(\u001b[0m\u001b[0mlong_grid\u001b[0m\u001b[0;34m)\u001b[0m\u001b[0;34m:\u001b[0m\u001b[0;34m\u001b[0m\u001b[0;34m\u001b[0m\u001b[0m\n\u001b[0;32m---> 96\u001b[0;31m                 \u001b[0mgis_data\u001b[0m \u001b[0;34m=\u001b[0m \u001b[0mhandler\u001b[0m\u001b[0;34m.\u001b[0m\u001b[0mquery\u001b[0m\u001b[0;34m(\u001b[0m\u001b[0mpos_long\u001b[0m\u001b[0;34m,\u001b[0m \u001b[0mpos_lat\u001b[0m\u001b[0;34m)\u001b[0m\u001b[0;34m\u001b[0m\u001b[0;34m\u001b[0m\u001b[0m\n\u001b[0m\u001b[1;32m     97\u001b[0m                 \u001b[0mvalid_point\u001b[0m \u001b[0;34m=\u001b[0m \u001b[0mgis_data\u001b[0m\u001b[0;34m[\u001b[0m\u001b[0;34m\"ok-conditions\"\u001b[0m\u001b[0;34m]\u001b[0m\u001b[0;34m.\u001b[0m\u001b[0mbool\u001b[0m\u001b[0;34m(\u001b[0m\u001b[0;34m)\u001b[0m \u001b[0;32mand\u001b[0m \u001b[0mgis_data\u001b[0m\u001b[0;34m[\u001b[0m\u001b[0;34m\"ok-scope\"\u001b[0m\u001b[0;34m]\u001b[0m\u001b[0;34m.\u001b[0m\u001b[0mbool\u001b[0m\u001b[0;34m(\u001b[0m\u001b[0;34m)\u001b[0m \u001b[0;31m#and gis_data[\"ok-conflicts\"].bool()\u001b[0m\u001b[0;34m\u001b[0m\u001b[0;34m\u001b[0m\u001b[0m\n\u001b[1;32m     98\u001b[0m                 \u001b[0;31m#print(valid_point, 'lat=', pos_lat, 'long=', pos_long)\u001b[0m\u001b[0;34m\u001b[0m\u001b[0;34m\u001b[0m\u001b[0;34m\u001b[0m\u001b[0m\n",
      "\u001b[0;32m~/VS Code/Aquaculture/gis/gis_handler.py\u001b[0m in \u001b[0;36mquery\u001b[0;34m(self, x, y)\u001b[0m\n\u001b[1;32m     59\u001b[0m             \u001b[0mindex\u001b[0m \u001b[0;34m=\u001b[0m \u001b[0mraster\u001b[0m\u001b[0;34m.\u001b[0m\u001b[0mindex\u001b[0m\u001b[0;34m(\u001b[0m\u001b[0mx\u001b[0m\u001b[0;34m,\u001b[0m \u001b[0my\u001b[0m\u001b[0;34m)\u001b[0m\u001b[0;34m\u001b[0m\u001b[0;34m\u001b[0m\u001b[0m\n\u001b[1;32m     60\u001b[0m             \u001b[0;32mtry\u001b[0m\u001b[0;34m:\u001b[0m\u001b[0;34m\u001b[0m\u001b[0;34m\u001b[0m\u001b[0m\n\u001b[0;32m---> 61\u001b[0;31m                  \u001b[0mconditions\u001b[0m\u001b[0;34m[\u001b[0m\u001b[0mkey\u001b[0m\u001b[0;34m]\u001b[0m \u001b[0;34m=\u001b[0m \u001b[0mraster\u001b[0m\u001b[0;34m.\u001b[0m\u001b[0mread\u001b[0m\u001b[0;34m(\u001b[0m\u001b[0;36m1\u001b[0m\u001b[0;34m)\u001b[0m\u001b[0;34m[\u001b[0m\u001b[0mindex\u001b[0m\u001b[0;34m]\u001b[0m \u001b[0;31m# yes, by default this only reads the first band, but this is probably okay\u001b[0m\u001b[0;34m\u001b[0m\u001b[0;34m\u001b[0m\u001b[0m\n\u001b[0m\u001b[1;32m     62\u001b[0m             \u001b[0;32mexcept\u001b[0m \u001b[0mIndexError\u001b[0m \u001b[0;32mas\u001b[0m \u001b[0merror\u001b[0m\u001b[0;34m:\u001b[0m\u001b[0;34m\u001b[0m\u001b[0;34m\u001b[0m\u001b[0m\n\u001b[1;32m     63\u001b[0m                 \u001b[0mprint\u001b[0m\u001b[0;34m(\u001b[0m\u001b[0;34m'failed to read {} raster: {}'\u001b[0m\u001b[0;34m.\u001b[0m\u001b[0mformat\u001b[0m\u001b[0;34m(\u001b[0m\u001b[0mkey\u001b[0m\u001b[0;34m,\u001b[0m \u001b[0merror\u001b[0m\u001b[0;34m)\u001b[0m\u001b[0;34m)\u001b[0m\u001b[0;34m\u001b[0m\u001b[0;34m\u001b[0m\u001b[0m\n",
      "\u001b[0;31mKeyboardInterrupt\u001b[0m: "
     ]
    }
   ],
   "source": [
    "from utilities import *\n",
    "from env_opt import *\n",
    "from env_bruteforce import *\n",
    "from gis.gis_handler import GISHandler\n",
    "\n",
    "brute_force = True\n",
    "\n",
    "all_vars = ['x_wec','x_type_wec','x_pen','p_pen','x_env','p_env','p_wec','p_fish_salmon','pos_env', 'gis_handler', 'p_vessel']\n",
    "\n",
    "conditions = {'current [m/s]': '../data/Surface Current (m-s).tif',\n",
    "              'oxygen [mg/l]': '../data/Surface Oxygen (mg-l).tif',\n",
    "              'salinity [PSU]': '../data/Surface Salinity (PSU).tif',\n",
    "              'temperature [°C]': '../data/Surface Temperature (C).tif',\n",
    "              'period [s]': '../data/Wave Energy Period (s).tif',\n",
    "              'height [m]': '../data/Wave Significant Height (m).tif',\n",
    "              'bathymetry [m]': '../data/Bathymetry (m).tif',\n",
    "              'distance to port [m]': '../data/Distance to Port (m).tif',\n",
    "              'distance to shore [m]': '../data/Distance to Shore (m).tif'}\n",
    "\n",
    "# high fishing is above average, very high is more than one standard deviation above average\n",
    "conflicts = {'very high fishing traffic': '../data/Very High Fishing Vessel Traffic.geojson',\n",
    "#            'high fishing traffic': 'data/High Fishing Vessel Traffic.geojson',\n",
    "             'marine protected areas': '../data/Marine Protected Areas.geojson',\n",
    "             'danger zones': '../data/Danger Zones and Restricted Areas.geojson',\n",
    "             'submarine': '../data/Submarine Transit Lanes.geojson',\n",
    "             'torpex': '../data/Cape Cod TORPEX.geojson',\n",
    "             'block island': '../data/Block Island Renewable Energy Zone.geojson',\n",
    "             'ma wind': '../data/MA Wind Energy Areas.geojson',\n",
    "             'wind lease': '../data/Potential Wind Lease Areas.geojson',\n",
    "             'wind planning': '../data/Wind Planning Areas.geojson',\n",
    "             'shipping': '../data/Shipping Lanes.geojson'}\n",
    "\n",
    "waters = \"../data/Northeast State and Federal Waters.geojson\"\n",
    "\n",
    "handler = GISHandler(conditions, conflicts, waters)\n",
    "\n",
    "args = {}\n",
    "args['handler'] = handler\n",
    "\n",
    "if brute_force:\n",
    "    args['grid_resolution'] = 0.1\n",
    "    best_x_total, aqua_obj_best_total, p_best, best_x_without_conflict, aqua_obj_best_without_conflict = env_bruteforce(all_vars, args)\n",
    "    bruteforce_result(\"without conflict consideration\", best_x_total, aqua_obj_best_total, p_best)\n",
    "    bruteforce_result(\"with conflict consideration\", best_x_without_conflict, aqua_obj_best_without_conflict, p_best)\n",
    "else:\n",
    "    x_init, p_init, x, res_best, p_best, op_obj = env_opt(all_vars, args)\n",
    "    init_result(x_init.nom0, x_init.name, p_init.nom_dict)\n",
    "    optimize_result(x.name, x.list, x.unit, res_best, p_best)"
   ]
  }
 ],
 "metadata": {
  "kernelspec": {
   "display_name": "Python 3",
   "language": "python",
   "name": "python3"
  },
  "language_info": {
   "codemirror_mode": {
    "name": "ipython",
    "version": 3
   },
   "file_extension": ".py",
   "mimetype": "text/x-python",
   "name": "python",
   "nbconvert_exporter": "python",
   "pygments_lexer": "ipython3",
   "version": "3.8.8"
  },
  "orig_nbformat": 4,
  "vscode": {
   "interpreter": {
    "hash": "87a50f176f741c1b86927b21ccdf73a1698c866df5cdffe21462c036ad73c3b7"
   }
  }
 },
 "nbformat": 4,
 "nbformat_minor": 2
}
