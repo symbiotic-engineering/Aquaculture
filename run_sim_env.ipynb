{
 "cells": [
  {
   "cell_type": "code",
   "execution_count": 1,
   "metadata": {
    "tags": []
   },
   "outputs": [],
   "source": [
    "from utilities import *\n",
    "from env_bruteforce import *\n",
    "from gis_handler import GISHandler"
   ]
  },
  {
   "cell_type": "code",
   "execution_count": 2,
   "metadata": {
    "tags": []
   },
   "outputs": [],
   "source": [
    "all_vars = ['x_wec','x_type_wec','x_pen','p_pen','x_env','p_env','p_wec','p_fish_salmon','pos_env', 'gis_handler', 'p_vessel']\n",
    "\n",
    "conditions = {'current [m/s]': 'data/Surface Currents m-s (NODP 2016).tif',\n",
    "              'oxygen [mg/l]': 'data/Surface Oxygen mg-l (NCEI 2019).tif',\n",
    "              'salinity [PSU]': 'data/Surface Salinity PSU (NCEI 2019).tif',\n",
    "              'temperature [C]': 'data/Surface Temperature C (NODP 2016).tif',\n",
    "              'period [s]': 'data/Wave Energy Period s (NREL 2011).tif',\n",
    "              'height [m]': 'data/Significant Wave Height m (NREL 2011).tif',\n",
    "              'bathymetry [m]': 'data/Bathymetry Downsampled m (NGDC 1990).tif',\n",
    "              'distance to port [m]': 'data/Distance to Port m (OCM 2019).tif'}\n",
    "\n",
    "# high fishing is above average, very high is more than one standard deviation above average\n",
    "conflicts = {'very high fishing traffic': 'data/Very High Fishing Vessel Traffic (NODP 2022).geojson',\n",
    "#            'high fishing traffic': 'data/High Fishing Vessel Traffic (NODP 2022).geojson',\n",
    "             'marine protected areas': 'data/Marine Protected Areas (NMPAC 2020).geojson',\n",
    "             'danger zones': 'data/Danger Zones and Restricted Areas (OCM 2022).geojson',\n",
    "             'submarine': 'data/Submarine Transit Lanes (NODP 2016).geojson',\n",
    "             'torpex': 'data/Cape Cod TORPEX (NODP 2016).geojson',\n",
    "             'block island': 'data/Block Island Renewable Energy Zone (NODP 2010).geojson',\n",
    "             'ma wind': 'data/MA Wind Energy Areas (NODP 2015).geojson',\n",
    "             'wind lease': 'data/Potential Wind Lease Areas (BOEM 2023).geojson',\n",
    "             'wind planning': 'data/Wind Planning Areas (BOEM 2023).geojson',\n",
    "             'shipping': 'data/Shipping Lanes (OCS 2015).geojson'}\n",
    "\n",
    "waters = 'data/Northeast State and Federal Waters (OCM 2018).geojson'\n",
    "\n",
    "handler = GISHandler(conditions, conflicts, waters)"
   ]
  },
  {
   "cell_type": "code",
   "execution_count": 3,
   "metadata": {
    "tags": []
   },
   "outputs": [
    {
     "name": "stdout",
     "output_type": "stream",
     "text": [
      "Manually replaced [(38.45, 45.19), (-75.78, -65.7)] with new bounds of [(38.4, 45.2), (-75.8, -65.7)] to match previously calculated points.\n"
     ]
    },
    {
     "name": "stderr",
     "output_type": "stream",
     "text": [
      "/Users/gabriel/Documents/SEA Lab/aquaculture/gis_handler.py:73: FutureWarning: The behavior of DataFrame concatenation with empty or all-NA entries is deprecated. In a future version, this will no longer exclude empty or all-NA columns when determining the result dtypes. To retain the old behavior, exclude the relevant entries before the concat operation.\n",
      "  self.points = pd.concat([self.points, pd.DataFrame([conditions])], ignore_index=True)\n",
      "/Users/gabriel/Documents/SEA Lab/aquaculture/env_bruteforce.py:40: FutureWarning: The behavior of DataFrame concatenation with empty or all-NA entries is deprecated. In a future version, this will no longer exclude empty or all-NA columns when determining the result dtypes. To retain the old behavior, exclude the relevant entries before the concat operation.\n",
      "  self.points = pd.concat([self.points, pd.DataFrame([data])], ignore_index=True)\n",
      "/Users/gabriel/Documents/SEA Lab/aquaculture/env_bruteforce.py:40: FutureWarning: The behavior of DataFrame concatenation with empty or all-NA entries is deprecated. In a future version, this will no longer exclude empty or all-NA columns when determining the result dtypes. To retain the old behavior, exclude the relevant entries before the concat operation.\n",
      "  self.points = pd.concat([self.points, pd.DataFrame([data])], ignore_index=True)\n"
     ]
    }
   ],
   "source": [
    "args = {}\n",
    "args['handler'] = handler\n",
    "args['grid_resolution'] = 0.1\n",
    "\n",
    "best_x_total, aqua_obj_best_total, p_best, best_x_without_conflict, aqua_obj_best_without_conflict = env_bruteforce(all_vars, args)"
   ]
  },
  {
   "cell_type": "code",
   "execution_count": 5,
   "metadata": {},
   "outputs": [
    {
     "name": "stdout",
     "output_type": "stream",
     "text": [
      "++++++++++++++++++++++++++++++++++++++++++++++++++++++++++++++++++++++++++++++++\n",
      "\u001b[1mbrute force without conflict consideration\u001b[0;0m\n",
      "++++++++++++++++++++++++++++++++++++++++++++++++++++++++++++++++++++++++++++++++\n",
      "\u001b[1mdesign variable:\u001b[0;0m\n",
      "   pos_lat       43.700 m\n",
      "   pos_long     -68.900 m\n",
      "----------------------------------------\n",
      "\u001b[1m objective function terms:\u001b[0;0m\n",
      "   Objective_func 30044429.965\n",
      "   fish_yield     675933.294 [kg]\n",
      "----------------------------------------\n",
      "\u001b[1m wave energy converter:\u001b[0;0m\n",
      "   wec number          5.000 [-]\n",
      "   wave power          3.717 [kW/m]\n",
      "   wec_P_ave           8.821 [kW]\n",
      "   wec AEP        386633.844 [kWh]\n",
      "----------------------------------------\n",
      "\u001b[1m price break down:\u001b[0;0m\n",
      "   wec NPV              29452107.101 [$]\n",
      "   pen price            5301437.603 [$]\n",
      "   fish feed price      1765378.722 [$]\n",
      "   vessel travel NPV    592322.863 [$]\n",
      "----------------------------------------\n",
      "\u001b[1m location validation:\u001b[0;0m\n",
      "   conditions           5475    True\n",
      "Name: ok-conditions, dtype: object\n",
      "   scope                5475    True\n",
      "Name: ok-scope, dtype: object\n",
      "   conflicts            5475    True\n",
      "Name: ok-conflicts, dtype: object\n",
      "++++++++++++++++++++++++++++++++++++++++++++++++++++++++++++++++++++++++++++++++\n",
      "\u001b[1mbrute force with conflict consideration\u001b[0;0m\n",
      "++++++++++++++++++++++++++++++++++++++++++++++++++++++++++++++++++++++++++++++++\n",
      "\u001b[1mdesign variable:\u001b[0;0m\n",
      "   pos_lat       43.700 m\n",
      "   pos_long     -68.900 m\n",
      "----------------------------------------\n",
      "\u001b[1m objective function terms:\u001b[0;0m\n",
      "   Objective_func 30044429.965\n",
      "   fish_yield     675933.294 [kg]\n",
      "----------------------------------------\n",
      "\u001b[1m wave energy converter:\u001b[0;0m\n",
      "   wec number          5.000 [-]\n",
      "   wave power          3.717 [kW/m]\n",
      "   wec_P_ave           8.821 [kW]\n",
      "   wec AEP        386633.844 [kWh]\n",
      "----------------------------------------\n",
      "\u001b[1m price break down:\u001b[0;0m\n",
      "   wec NPV              29452107.101 [$]\n",
      "   pen price            5301437.603 [$]\n",
      "   fish feed price      1765378.722 [$]\n",
      "   vessel travel NPV    592322.863 [$]\n",
      "----------------------------------------\n",
      "\u001b[1m location validation:\u001b[0;0m\n",
      "   conditions           5475    True\n",
      "Name: ok-conditions, dtype: object\n",
      "   scope                5475    True\n",
      "Name: ok-scope, dtype: object\n",
      "   conflicts            5475    True\n",
      "Name: ok-conflicts, dtype: object\n"
     ]
    }
   ],
   "source": [
    "bruteforce_result(\"without conflict consideration\", best_x_total, aqua_obj_best_total, p_best)\n",
    "bruteforce_result(\"with conflict consideration\", best_x_without_conflict, aqua_obj_best_without_conflict, p_best)"
   ]
  },
  {
   "cell_type": "code",
   "execution_count": null,
   "metadata": {},
   "outputs": [],
   "source": []
  }
 ],
 "metadata": {
  "kernelspec": {
   "display_name": "imta",
   "language": "python",
   "name": "imta"
  },
  "language_info": {
   "codemirror_mode": {
    "name": "ipython",
    "version": 3
   },
   "file_extension": ".py",
   "mimetype": "text/x-python",
   "name": "python",
   "nbconvert_exporter": "python",
   "pygments_lexer": "ipython3",
   "version": "3.9.18"
  },
  "vscode": {
   "interpreter": {
    "hash": "87a50f176f741c1b86927b21ccdf73a1698c866df5cdffe21462c036ad73c3b7"
   }
  }
 },
 "nbformat": 4,
 "nbformat_minor": 4
}
