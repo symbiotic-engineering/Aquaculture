{
 "cells": [
  {
   "cell_type": "code",
   "execution_count": 1,
   "metadata": {},
   "outputs": [
    {
     "name": "stdout",
     "output_type": "stream",
     "text": [
      "++++++++++++++++++++++++++++++++++++++++++++++++++++++++++++++++++++++++++++++++\n",
      "\u001b[1mbrute force without conflict consideration\u001b[0;0m\n",
      "++++++++++++++++++++++++++++++++++++++++++++++++++++++++++++++++++++++++++++++++\n",
      "\u001b[1mdesign variable:\u001b[0;0m\n",
      "   pos_lat       43.950 m\n",
      "   pos_long     -68.480 m\n",
      "----------------------------------------\n",
      "\u001b[1m objective function terms:\u001b[0;0m\n",
      "   Objective_func 109680868.339\n",
      "   fish_yield     2162986.542 [kg]\n",
      "----------------------------------------\n",
      "\u001b[1m wave energy converter:\u001b[0;0m\n",
      "   wec number         18.000 [-]\n",
      "   wave power          3.373 [kW/m]\n",
      "   wec_P_ave           7.841 [kW]\n",
      "   wec AEP        1237228.302 [kWh]\n",
      "----------------------------------------\n",
      "\u001b[1m price break down:\u001b[0;0m\n",
      "   wec NPV              109131900.357 [$]\n",
      "   pen price            12723450.247 [$]\n",
      "   fish feed price      5649211.910 [$]\n",
      "   vessel travel NPV    548967.982 [$]\n",
      "----------------------------------------\n",
      "\u001b[1m location validation:\u001b[0;0m\n",
      "   conditions           True\n",
      "   scope                True\n",
      "   conflicts            False\n",
      "++++++++++++++++++++++++++++++++++++++++++++++++++++++++++++++++++++++++++++++++\n",
      "\u001b[1mbrute force with conflict consideration\u001b[0;0m\n",
      "++++++++++++++++++++++++++++++++++++++++++++++++++++++++++++++++++++++++++++++++\n",
      "\u001b[1mdesign variable:\u001b[0;0m\n",
      "   pos_lat       43.750 m\n",
      "   pos_long     -68.880 m\n",
      "----------------------------------------\n",
      "\u001b[1m objective function terms:\u001b[0;0m\n",
      "   Objective_func 109780028.495\n",
      "   fish_yield     2162986.542 [kg]\n",
      "----------------------------------------\n",
      "\u001b[1m wave energy converter:\u001b[0;0m\n",
      "   wec number         18.000 [-]\n",
      "   wave power          3.462 [kW/m]\n",
      "   wec_P_ave           7.841 [kW]\n",
      "   wec AEP        1237228.302 [kWh]\n",
      "----------------------------------------\n",
      "\u001b[1m price break down:\u001b[0;0m\n",
      "   wec NPV              109131900.357 [$]\n",
      "   pen price            12723450.247 [$]\n",
      "   fish feed price      5649211.910 [$]\n",
      "   vessel travel NPV    648128.137 [$]\n",
      "----------------------------------------\n",
      "\u001b[1m location validation:\u001b[0;0m\n",
      "   conditions           True\n",
      "   scope                True\n",
      "   conflicts            True\n"
     ]
    }
   ],
   "source": [
    "from utilities import *\n",
    "from env_bruteforce import *\n",
    "from gis.gis_handler import GISHandler\n",
    "\n",
    "all_vars = ['x_wec','x_type_wec','x_pen','p_pen','x_env','p_env','p_wec','p_fish_salmon','pos_env', 'gis_handler', 'p_vessel']\n",
    "\n",
    "conditions = {'current [m/s]': '../data/Surface Current (m-s).tif',\n",
    "              'oxygen [mg/l]': '../data/Surface Oxygen (mg-l).tif',\n",
    "              'salinity [PSU]': '../data/Surface Salinity (PSU).tif',\n",
    "              'temperature [°C]': '../data/Surface Temperature (C).tif',\n",
    "              'period [s]': '../data/Wave Energy Period (s).tif',\n",
    "              'height [m]': '../data/Wave Significant Height (m).tif',\n",
    "              'bathymetry [m]': '../data/Bathymetry (m).tif',\n",
    "              'distance to port [m]': '../data/Distance to Port (m).tif'}\n",
    "\n",
    "# high fishing is above average, very high is more than one standard deviation above average\n",
    "conflicts = {'very high fishing traffic': '../data/Very High Fishing Vessel Traffic.geojson',\n",
    "#            'high fishing traffic': 'data/High Fishing Vessel Traffic.geojson',\n",
    "             'marine protected areas': '../data/Marine Protected Areas.geojson',\n",
    "             'danger zones': '../data/Danger Zones and Restricted Areas.geojson',\n",
    "             'submarine': '../data/Submarine Transit Lanes.geojson',\n",
    "             'torpex': '../data/Cape Cod TORPEX.geojson',\n",
    "             'block island': '../data/Block Island Renewable Energy Zone.geojson',\n",
    "             'ma wind': '../data/MA Wind Energy Areas.geojson',\n",
    "             'wind lease': '../data/Potential Wind Lease Areas.geojson',\n",
    "             'wind planning': '../data/Wind Planning Areas.geojson',\n",
    "             'shipping': '../data/Shipping Lanes.geojson'}\n",
    "\n",
    "waters = \"../data/Northeast State and Federal Waters.geojson\"\n",
    "\n",
    "handler = GISHandler(conditions, conflicts, waters)\n",
    "\n",
    "args = {}\n",
    "args['handler'] = handler\n",
    "\n",
    "args['grid_resolution'] = 0.1\n",
    "best_x_total, aqua_obj_best_total, p_best, best_x_without_conflict, aqua_obj_best_without_conflict = env_bruteforce(all_vars, args)\n",
    "bruteforce_result(\"without conflict consideration\", best_x_total, aqua_obj_best_total, p_best)\n",
    "bruteforce_result(\"with conflict consideration\", best_x_without_conflict, aqua_obj_best_without_conflict, p_best)"
   ]
  },
  {
   "cell_type": "code",
   "execution_count": null,
   "metadata": {},
   "outputs": [],
   "source": []
  }
 ],
 "metadata": {
  "kernelspec": {
   "display_name": "Python 3 (ipykernel)",
   "language": "python",
   "name": "python3"
  },
  "language_info": {
   "codemirror_mode": {
    "name": "ipython",
    "version": 3
   },
   "file_extension": ".py",
   "mimetype": "text/x-python",
   "name": "python",
   "nbconvert_exporter": "python",
   "pygments_lexer": "ipython3",
   "version": "3.8.8"
  },
  "vscode": {
   "interpreter": {
    "hash": "87a50f176f741c1b86927b21ccdf73a1698c866df5cdffe21462c036ad73c3b7"
   }
  }
 },
 "nbformat": 4,
 "nbformat_minor": 4
}
