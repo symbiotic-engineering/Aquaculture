{
 "cells": [
  {
   "cell_type": "code",
   "execution_count": 1,
   "metadata": {},
   "outputs": [
    {
     "ename": "ModuleNotFoundError",
     "evalue": "No module named 'env_opt'",
     "output_type": "error",
     "traceback": [
      "\u001b[0;31m---------------------------------------------------------------------------\u001b[0m",
      "\u001b[0;31mModuleNotFoundError\u001b[0m                       Traceback (most recent call last)",
      "\u001b[0;32m/var/folders/ky/d11qkkvj0g151c_msx0ghxkh0000gn/T/ipykernel_93862/2333248291.py\u001b[0m in \u001b[0;36m<module>\u001b[0;34m\u001b[0m\n\u001b[1;32m      1\u001b[0m \u001b[0;32mfrom\u001b[0m \u001b[0mutilities\u001b[0m \u001b[0;32mimport\u001b[0m \u001b[0;34m*\u001b[0m\u001b[0;34m\u001b[0m\u001b[0;34m\u001b[0m\u001b[0m\n\u001b[0;32m----> 2\u001b[0;31m \u001b[0;32mfrom\u001b[0m \u001b[0menv_bruteforce\u001b[0m \u001b[0;32mimport\u001b[0m \u001b[0;34m*\u001b[0m\u001b[0;34m\u001b[0m\u001b[0;34m\u001b[0m\u001b[0m\n\u001b[0m\u001b[1;32m      3\u001b[0m \u001b[0;32mfrom\u001b[0m \u001b[0mgis\u001b[0m\u001b[0;34m.\u001b[0m\u001b[0mgis_handler\u001b[0m \u001b[0;32mimport\u001b[0m \u001b[0mGISHandler\u001b[0m\u001b[0;34m\u001b[0m\u001b[0;34m\u001b[0m\u001b[0m\n\u001b[1;32m      4\u001b[0m \u001b[0;34m\u001b[0m\u001b[0m\n\u001b[1;32m      5\u001b[0m \u001b[0mall_vars\u001b[0m \u001b[0;34m=\u001b[0m \u001b[0;34m[\u001b[0m\u001b[0;34m'x_wec'\u001b[0m\u001b[0;34m,\u001b[0m\u001b[0;34m'x_type_wec'\u001b[0m\u001b[0;34m,\u001b[0m\u001b[0;34m'x_pen'\u001b[0m\u001b[0;34m,\u001b[0m\u001b[0;34m'p_pen'\u001b[0m\u001b[0;34m,\u001b[0m\u001b[0;34m'x_env'\u001b[0m\u001b[0;34m,\u001b[0m\u001b[0;34m'p_env'\u001b[0m\u001b[0;34m,\u001b[0m\u001b[0;34m'p_wec'\u001b[0m\u001b[0;34m,\u001b[0m\u001b[0;34m'p_fish_salmon'\u001b[0m\u001b[0;34m,\u001b[0m\u001b[0;34m'pos_env'\u001b[0m\u001b[0;34m,\u001b[0m \u001b[0;34m'gis_handler'\u001b[0m\u001b[0;34m,\u001b[0m \u001b[0;34m'p_vessel'\u001b[0m\u001b[0;34m]\u001b[0m\u001b[0;34m\u001b[0m\u001b[0;34m\u001b[0m\u001b[0m\n",
      "\u001b[0;32m~/Documents/SEA Lab/Sea Grant Aquaculture Project/aquaculture/env_bruteforce.py\u001b[0m in \u001b[0;36m<module>\u001b[0;34m\u001b[0m\n\u001b[1;32m      3\u001b[0m \u001b[0;32mimport\u001b[0m \u001b[0moptimization\u001b[0m\u001b[0;34m\u001b[0m\u001b[0;34m\u001b[0m\u001b[0m\n\u001b[1;32m      4\u001b[0m \u001b[0;32mfrom\u001b[0m \u001b[0mutilities\u001b[0m \u001b[0;32mimport\u001b[0m \u001b[0;34m*\u001b[0m\u001b[0;34m\u001b[0m\u001b[0;34m\u001b[0m\u001b[0m\n\u001b[0;32m----> 5\u001b[0;31m \u001b[0;32mfrom\u001b[0m \u001b[0menv_opt\u001b[0m \u001b[0;32mimport\u001b[0m \u001b[0;34m*\u001b[0m\u001b[0;34m\u001b[0m\u001b[0;34m\u001b[0m\u001b[0m\n\u001b[0m\u001b[1;32m      6\u001b[0m \u001b[0;32mimport\u001b[0m \u001b[0mcopy\u001b[0m\u001b[0;34m\u001b[0m\u001b[0;34m\u001b[0m\u001b[0m\n\u001b[1;32m      7\u001b[0m \u001b[0;32mimport\u001b[0m \u001b[0mnumpy\u001b[0m \u001b[0;32mas\u001b[0m \u001b[0mnp\u001b[0m\u001b[0;34m\u001b[0m\u001b[0;34m\u001b[0m\u001b[0m\n",
      "\u001b[0;31mModuleNotFoundError\u001b[0m: No module named 'env_opt'"
     ]
    }
   ],
   "source": [
    "from utilities import *\n",
    "from env_bruteforce import *\n",
    "from gis.gis_handler import GISHandler\n",
    "\n",
    "all_vars = ['x_wec','x_type_wec','x_pen','p_pen','x_env','p_env','p_wec','p_fish_salmon','pos_env', 'gis_handler', 'p_vessel']\n",
    "\n",
    "conditions = {'current [m/s]': '../data/Surface Current (m-s).tif',\n",
    "              'oxygen [mg/l]': '../data/Surface Oxygen (mg-l).tif',\n",
    "              'salinity [PSU]': '../data/Surface Salinity (PSU).tif',\n",
    "              'temperature [°C]': '../data/Surface Temperature (C).tif',\n",
    "              'period [s]': '../data/Wave Energy Period (s).tif',\n",
    "              'height [m]': '../data/Wave Significant Height (m).tif',\n",
    "              'bathymetry [m]': '../data/Bathymetry (m).tif',\n",
    "              'distance to port [m]': '../data/Distance to Port (m).tif',\n",
    "              'distance to shore [m]': '../data/Distance to Shore (m).tif'}\n",
    "\n",
    "# high fishing is above average, very high is more than one standard deviation above average\n",
    "conflicts = {'very high fishing traffic': '../data/Very High Fishing Vessel Traffic.geojson',\n",
    "#            'high fishing traffic': 'data/High Fishing Vessel Traffic.geojson',\n",
    "             'marine protected areas': '../data/Marine Protected Areas.geojson',\n",
    "             'danger zones': '../data/Danger Zones and Restricted Areas.geojson',\n",
    "             'submarine': '../data/Submarine Transit Lanes.geojson',\n",
    "             'torpex': '../data/Cape Cod TORPEX.geojson',\n",
    "             'block island': '../data/Block Island Renewable Energy Zone.geojson',\n",
    "             'ma wind': '../data/MA Wind Energy Areas.geojson',\n",
    "             'wind lease': '../data/Potential Wind Lease Areas.geojson',\n",
    "             'wind planning': '../data/Wind Planning Areas.geojson',\n",
    "             'shipping': '../data/Shipping Lanes.geojson'}\n",
    "\n",
    "waters = \"../data/Northeast State and Federal Waters.geojson\"\n",
    "\n",
    "handler = GISHandler(conditions, conflicts, waters)\n",
    "\n",
    "args = {}\n",
    "args['handler'] = handler\n",
    "\n",
    "args['grid_resolution'] = 0.1\n",
    "best_x_total, aqua_obj_best_total, p_best, best_x_without_conflict, aqua_obj_best_without_conflict = env_bruteforce(all_vars, args)\n",
    "bruteforce_result(\"without conflict consideration\", best_x_total, aqua_obj_best_total, p_best)\n",
    "bruteforce_result(\"with conflict consideration\", best_x_without_conflict, aqua_obj_best_without_conflict, p_best)"
   ]
  },
  {
   "cell_type": "code",
   "execution_count": null,
   "metadata": {},
   "outputs": [],
   "source": []
  }
 ],
 "metadata": {
  "kernelspec": {
   "display_name": "Python 3 (ipykernel)",
   "language": "python",
   "name": "python3"
  },
  "language_info": {
   "codemirror_mode": {
    "name": "ipython",
    "version": 3
   },
   "file_extension": ".py",
   "mimetype": "text/x-python",
   "name": "python",
   "nbconvert_exporter": "python",
   "pygments_lexer": "ipython3",
   "version": "3.9.13"
  },
  "vscode": {
   "interpreter": {
    "hash": "87a50f176f741c1b86927b21ccdf73a1698c866df5cdffe21462c036ad73c3b7"
   }
  }
 },
 "nbformat": 4,
 "nbformat_minor": 4
}
