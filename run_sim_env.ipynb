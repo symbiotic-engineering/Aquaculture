{
 "cells": [
  {
   "cell_type": "code",
   "execution_count": 3,
   "metadata": {},
   "outputs": [
    {
     "name": "stdout",
     "output_type": "stream",
     "text": [
      "failed to read period [s] raster: index 100 is out of bounds for axis 0 with size 100\n"
     ]
    },
    {
     "ename": "KeyError",
     "evalue": "'period [s]'",
     "output_type": "error",
     "traceback": [
      "\u001b[0;31m---------------------------------------------------------------------------\u001b[0m",
      "\u001b[0;31mKeyError\u001b[0m                                  Traceback (most recent call last)",
      "Cell \u001b[0;32mIn[3], line 37\u001b[0m\n\u001b[1;32m     34\u001b[0m args[\u001b[38;5;124m'\u001b[39m\u001b[38;5;124mhandler\u001b[39m\u001b[38;5;124m'\u001b[39m] \u001b[38;5;241m=\u001b[39m handler\n\u001b[1;32m     36\u001b[0m args[\u001b[38;5;124m'\u001b[39m\u001b[38;5;124mgrid_resolution\u001b[39m\u001b[38;5;124m'\u001b[39m] \u001b[38;5;241m=\u001b[39m \u001b[38;5;241m0.1\u001b[39m\n\u001b[0;32m---> 37\u001b[0m best_x_total, aqua_obj_best_total, p_best, best_x_without_conflict, aqua_obj_best_without_conflict \u001b[38;5;241m=\u001b[39m \u001b[43menv_bruteforce\u001b[49m\u001b[43m(\u001b[49m\u001b[43mall_vars\u001b[49m\u001b[43m,\u001b[49m\u001b[43m \u001b[49m\u001b[43margs\u001b[49m\u001b[43m)\u001b[49m\n\u001b[1;32m     38\u001b[0m bruteforce_result(\u001b[38;5;124m\"\u001b[39m\u001b[38;5;124mwithout conflict consideration\u001b[39m\u001b[38;5;124m\"\u001b[39m, best_x_total, aqua_obj_best_total, p_best)\n\u001b[1;32m     39\u001b[0m bruteforce_result(\u001b[38;5;124m\"\u001b[39m\u001b[38;5;124mwith conflict consideration\u001b[39m\u001b[38;5;124m\"\u001b[39m, best_x_without_conflict, aqua_obj_best_without_conflict, p_best)\n",
      "File \u001b[0;32m~/Documents/SEA Lab/aquaculture/env_bruteforce.py:95\u001b[0m, in \u001b[0;36menv_bruteforce\u001b[0;34m(all_vars, *args)\u001b[0m\n\u001b[1;32m     93\u001b[0m \u001b[38;5;28;01mfor\u001b[39;00m pos_lat \u001b[38;5;129;01min\u001b[39;00m (lat_grid):\n\u001b[1;32m     94\u001b[0m     \u001b[38;5;28;01mfor\u001b[39;00m pos_long \u001b[38;5;129;01min\u001b[39;00m (long_grid):\n\u001b[0;32m---> 95\u001b[0m         gis_data \u001b[38;5;241m=\u001b[39m \u001b[43mhandler\u001b[49m\u001b[38;5;241;43m.\u001b[39;49m\u001b[43mquery\u001b[49m\u001b[43m(\u001b[49m\u001b[43mpos_long\u001b[49m\u001b[43m,\u001b[49m\u001b[43m \u001b[49m\u001b[43mpos_lat\u001b[49m\u001b[43m)\u001b[49m\n\u001b[1;32m     96\u001b[0m         valid_point \u001b[38;5;241m=\u001b[39m gis_data[\u001b[38;5;124m\"\u001b[39m\u001b[38;5;124mok-conditions\u001b[39m\u001b[38;5;124m\"\u001b[39m]\u001b[38;5;241m.\u001b[39mbool() \u001b[38;5;129;01mand\u001b[39;00m gis_data[\u001b[38;5;124m\"\u001b[39m\u001b[38;5;124mok-scope\u001b[39m\u001b[38;5;124m\"\u001b[39m]\u001b[38;5;241m.\u001b[39mbool() \u001b[38;5;66;03m#and gis_data[\"ok-conflicts\"].bool()\u001b[39;00m\n\u001b[1;32m     97\u001b[0m         \u001b[38;5;66;03m#print(valid_point, 'lat=', pos_lat, 'long=', pos_long)\u001b[39;00m\n",
      "File \u001b[0;32m~/Documents/SEA Lab/aquaculture/gis_handler.py:73\u001b[0m, in \u001b[0;36mGISHandler.query\u001b[0;34m(self, x, y)\u001b[0m\n\u001b[1;32m     71\u001b[0m     \u001b[38;5;28;01mexcept\u001b[39;00m \u001b[38;5;167;01mIndexError\u001b[39;00m \u001b[38;5;28;01mas\u001b[39;00m error:\n\u001b[1;32m     72\u001b[0m         \u001b[38;5;28mprint\u001b[39m(\u001b[38;5;124m'\u001b[39m\u001b[38;5;124mfailed to read \u001b[39m\u001b[38;5;132;01m{}\u001b[39;00m\u001b[38;5;124m raster: \u001b[39m\u001b[38;5;132;01m{}\u001b[39;00m\u001b[38;5;124m'\u001b[39m\u001b[38;5;241m.\u001b[39mformat(key, error))\n\u001b[0;32m---> 73\u001b[0m     \u001b[38;5;28;01mif\u001b[39;00m \u001b[43mconditions\u001b[49m\u001b[43m[\u001b[49m\u001b[43mkey\u001b[49m\u001b[43m]\u001b[49m \u001b[38;5;241m==\u001b[39m \u001b[38;5;241m0\u001b[39m: \u001b[38;5;66;03m# yes, this assumes that zero is not a valid value. this is true for our current rasters, but isn't necessarily correct\u001b[39;00m\n\u001b[1;32m     74\u001b[0m         conditions[\u001b[38;5;124m'\u001b[39m\u001b[38;5;124mok-conditions\u001b[39m\u001b[38;5;124m'\u001b[39m] \u001b[38;5;241m=\u001b[39m \u001b[38;5;28;01mFalse\u001b[39;00m\n\u001b[1;32m     76\u001b[0m \u001b[38;5;28mself\u001b[39m\u001b[38;5;241m.\u001b[39mpoints \u001b[38;5;241m=\u001b[39m \u001b[38;5;28mself\u001b[39m\u001b[38;5;241m.\u001b[39mpoints\u001b[38;5;241m.\u001b[39mappend(conditions, ignore_index\u001b[38;5;241m=\u001b[39m\u001b[38;5;28;01mTrue\u001b[39;00m)\n",
      "\u001b[0;31mKeyError\u001b[0m: 'period [s]'"
     ]
    }
   ],
   "source": [
    "from utilities import *\n",
    "from env_bruteforce import *\n",
    "from gis_handler import GISHandler\n",
    "\n",
    "all_vars = ['x_wec','x_type_wec','x_pen','p_pen','x_env','p_env','p_wec','p_fish_salmon','pos_env', 'gis_handler', 'p_vessel']\n",
    "\n",
    "conditions = {'current [m/s]': 'data/Surface Currents m-s (NODP 2016).tif',\n",
    "              'oxygen [mg/l]': 'data/Surface Oxygen mg-l (NCEI 2019).tif',\n",
    "              'salinity [PSU]': 'data/Surface Salinity PSU (NCEI 2019).tif',\n",
    "              'temperature [°C]': 'data/Surface Temperature C (NODP 2016).tif',\n",
    "              'period [s]': 'data/Wave Energy Period s (NREL 2011).tif',\n",
    "              'height [m]': 'data/Significant Wave Height m (NREL 2011).tif',\n",
    "              'bathymetry [m]': 'data/Bathymetry Downsampled m (NGDC 1990).tif',\n",
    "              'distance to port [m]': 'data/Distance to Port m (OCM 2019).tif'}\n",
    "\n",
    "# high fishing is above average, very high is more than one standard deviation above average\n",
    "conflicts = {'very high fishing traffic': 'data/Very High Fishing Vessel Traffic (NODP 2022).geojson',\n",
    "#            'high fishing traffic': 'data/High Fishing Vessel Traffic.geojson',\n",
    "             'marine protected areas': 'data/Marine Protected Areas (NMPAC 2020).geojson',\n",
    "             'danger zones': 'data/Danger Zones and Restricted Areas (OCM 2022).geojson',\n",
    "             'submarine': 'data/Submarine Transit Lanes (NODP 2016).geojson',\n",
    "             'torpex': 'data/Cape Cod TORPEX (NODP 2016).geojson',\n",
    "             'block island': 'data/Block Island Renewable Energy Zone (NODP 2010).geojson',\n",
    "             'ma wind': 'data/MA Wind Energy Areas (NODP 2015).geojson',\n",
    "             'wind lease': 'data/Potential Wind Lease Areas (BOEM 2023).geojson',\n",
    "             'wind planning': 'data/Wind Planning Areas (BOEM 2023).geojson',\n",
    "             'shipping': 'data/Shipping Lanes (OCS 2015).geojson'}\n",
    "\n",
    "waters = \"data/Northeast State and Federal Waters (OCM 2018).geojson\"\n",
    "\n",
    "handler = GISHandler(conditions, conflicts, waters)\n",
    "\n",
    "args = {}\n",
    "args['handler'] = handler\n",
    "\n",
    "args['grid_resolution'] = 0.1\n",
    "best_x_total, aqua_obj_best_total, p_best, best_x_without_conflict, aqua_obj_best_without_conflict = env_bruteforce(all_vars, args)\n",
    "bruteforce_result(\"without conflict consideration\", best_x_total, aqua_obj_best_total, p_best)\n",
    "bruteforce_result(\"with conflict consideration\", best_x_without_conflict, aqua_obj_best_without_conflict, p_best)"
   ]
  },
  {
   "cell_type": "code",
   "execution_count": null,
   "metadata": {},
   "outputs": [],
   "source": []
  }
 ],
 "metadata": {
  "kernelspec": {
   "display_name": "Python [conda env:imta]",
   "language": "python",
   "name": "conda-env-imta-py"
  },
  "language_info": {
   "codemirror_mode": {
    "name": "ipython",
    "version": 3
   },
   "file_extension": ".py",
   "mimetype": "text/x-python",
   "name": "python",
   "nbconvert_exporter": "python",
   "pygments_lexer": "ipython3",
   "version": "3.9.18"
  },
  "vscode": {
   "interpreter": {
    "hash": "87a50f176f741c1b86927b21ccdf73a1698c866df5cdffe21462c036ad73c3b7"
   }
  }
 },
 "nbformat": 4,
 "nbformat_minor": 4
}
