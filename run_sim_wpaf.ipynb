{
 "cells": [
  {
   "cell_type": "markdown",
   "metadata": {},
   "source": [
    "# Optimization"
   ]
  },
  {
   "cell_type": "code",
   "execution_count": 1,
   "metadata": {
    "scrolled": false
   },
   "outputs": [
    {
     "name": "stdout",
     "output_type": "stream",
     "text": [
      "optimization is running ...\n",
      "++++++++++++++++++++++++++++++++++++++++\n",
      "\u001b[1mInitial objective function terms:\u001b[0;0m\n",
      "   Objective_func     35.668\n",
      "   NPV            90764512.796 [$]\n",
      "   fish_yield     2544690.049 [kg]\n",
      "----------------------------------------\n",
      "\u001b[1mInitial wave energy converter:\u001b[0;0m\n",
      "   wec number          7.000 [-]\n",
      "   wec_P_ave          71.099 [kW]\n",
      "   wec AEP        4362784.390 [kWh]\n",
      "----------------------------------------\n",
      "\u001b[1mInitial price break down:\u001b[0;0m\n",
      "   wec NPV              45156342.679 [$]\n",
      "   Aqua NPV             44301682.407 [$]\n",
      "   Net Pen CapEx        12743450.247 [$]\n",
      "   fish feed price      5649211.910 [$/fish life cycle]\n",
      "   fingerling price      63696.872 [$/fish life cycle]\n",
      "   vessel travel NPV    1124927.129 [$]\n",
      "   energy storage NPV   181560.581 [$]\n",
      "   diesel NPV           3394914.417 [$]\n",
      "----------------------------------------\n",
      "\u001b[1mInitial constraints:\u001b[0;0m\n",
      "   normalized fish_yield_cons          -0.271 [-]\n",
      "   normalized pen_ratio_low_cons        0.500 [-]\n",
      "   normalized pen_ratio_up_cons         0.333 [-]\n",
      "----------------------------------------\n",
      "\u001b[1mInitial carrying capacity:\u001b[0;0m\n",
      "   TPF_O2               12306446.715 [kg fish/year]\n",
      "   Carrying Capacity    2001773.025 [kg fish]\n",
      "----------------------------------------\n",
      "++++++++++++++++++++++++++++++++++++++++\n",
      "optimization success:  True\n",
      "\u001b[1moptimal design variable:\u001b[0;0m\n",
      "   capture_width      22.400 [m]\n",
      "   pen_diameter       40.872 [m]\n",
      "   pen_height         30.000 [m]\n",
      "   stock_density      11.548 [kg/m^3]\n",
      "   pen number         12.000 [-]\n",
      "----------------------------------------\n",
      "\u001b[1mdeployment Location:\u001b[0;0m\n",
      "   Longitude       -67.879\n",
      "   Latitude         43.491\n",
      "----------------------------------------\n",
      "\u001b[1moptimal objective function terms:\u001b[0;0m\n",
      "   Objective_func     29.685\n",
      "   NPV            161915097.210 [$]\n",
      "   fish_yield     5454377.639 [kg]\n",
      "----------------------------------------\n",
      "\u001b[1moptimal wave energy converter:\u001b[0;0m\n",
      "   wec number          7.000 [-]\n",
      "   wec_P_ave          79.631 [kW]\n",
      "   wec AEP        4886286.779 [kWh]\n",
      "----------------------------------------\n",
      "\u001b[1moptimal price break down:\u001b[0;0m\n",
      "   wec NPV              45156342.679 [$]\n",
      "   Aqua NPV             114915063.479 [$]\n",
      "   Net Pen CapEx        47272045.089 [$]\n",
      "   fish feed price      12108718.358 [$/fish life cycle]\n",
      "   fingerling price     136530.104 [$/fish life cycle]\n",
      "   vessel travel NPV    1124927.129 [$]\n",
      "   energy storage NPV   718763.924 [$]\n",
      "   diesel NPV           4454123.501 [$]\n",
      "----------------------------------------\n",
      "\u001b[1moptimal constraints:\u001b[0;0m\n",
      "   normalized fish_yield_cons           0.000 [-]\n",
      "   normalized pen_ratio_low_cons        0.266 [-]\n",
      "   normalized pen_ratio_up_cons         0.546 [-]\n",
      "----------------------------------------\n",
      "\u001b[1moptimal carrying capacity:\u001b[0;0m\n",
      "   TPF_O2               33532319.900 [kg fish/year]\n",
      "   Carrying Capacity    5454384.600 [kg fish]\n",
      "----------------------------------------\n",
      "\u001b[1moptimal feedbarge:\u001b[0;0m\n",
      "   fish feed harvest week  763612.869 [kg]\n",
      "   fish feed harvest week per pen   63634.406 [kg]\n",
      "   feedbarge number       4.000 [-]\n",
      "\u001b[1moptimal es size:\u001b[0;0m\n",
      "   es size      2652.265 [kWh]\n",
      "----------------------------------------\n",
      "++++++++++++++++++++++++++++++++++++++++\n"
     ]
    }
   ],
   "source": [
    "from wpaf_opt import *\n",
    "from gis.gis_handler import GISHandler\n",
    "\n",
    "all_vars = ['x_wec','x_type_wec','x_pen','p_pen','x_env','p_env','p_wec','p_fish_salmon','pos_env', 'gis_handler', 'p_vessel', 'x_disc_pen', 'p_es', 'p_diesel', 'p_pen_power', 'p_feedbarge']\n",
    "\n",
    "# with wave real data\n",
    "all_vars = all_vars  #+ ['p_wave_vec']\n",
    "# with wave average data\n",
    "#all_vars = all_vars  + ['x_wave_ave']\n",
    "\n",
    "conditions = {'current [m/s]': 'gis/data/Surface Current (m-s).tif',\n",
    "              'oxygen [mg/l]': 'gis/data/Surface Oxygen (mg-l).tif',\n",
    "              'salinity [PSU]': 'gis/data/Surface Salinity (PSU).tif',\n",
    "              'temperature [°C]': 'gis/data/Surface Temperature (C).tif',\n",
    "              'period [s]': 'gis/data/Wave Energy Period (s).tif',\n",
    "              'height [m]': 'gis/data/Wave Significant Height (m).tif',\n",
    "              'bathymetry [m]': 'gis/data/Bathymetry (m).tif',\n",
    "              #'distance to shore [m]': 'gis/data/Distance to Shore (m).tif',\n",
    "              'distance to port [m]': 'gis/data/Distance to Port (m).tif'}\n",
    "\n",
    "# high fishing is above average, very high is more than one standard deviation above average\n",
    "conflicts = {'very high fishing traffic': 'gis/data/Very High Fishing Vessel Traffic.geojson',\n",
    "#            'high fishing traffic': 'data/High Fishing Vessel Traffic.geojson',\n",
    "             'marine protected areas': 'gis/data/Marine Protected Areas.geojson',\n",
    "             'danger zones': 'gis/data/Danger Zones and Restricted Areas.geojson',\n",
    "             'submarine': 'gis/data/Submarine Transit Lanes.geojson',\n",
    "             'torpex': 'gis/data/Cape Cod TORPEX.geojson',\n",
    "             'block island': 'gis/data/Block Island Renewable Energy Zone.geojson',\n",
    "             'ma wind': 'gis/data/MA Wind Energy Areas.geojson',\n",
    "             'wind lease': 'gis/data/Potential Wind Lease Areas.geojson',\n",
    "             'wind planning': 'gis/data/Wind Planning Areas.geojson',\n",
    "             'shipping': 'gis/data/Shipping Lanes.geojson'}\n",
    "\n",
    "waters = \"gis/data/Northeast State and Federal Waters.geojson\"\n",
    "\n",
    "handler = GISHandler(conditions, conflicts, waters)\n",
    "\n",
    "args = {}\n",
    "args['handler'] = handler\n",
    "args['wave_data'] = \"../Wave Data/32_43.49_-67.88_2009.csv\"\n",
    "args['aqua_load'] = \"../Aquaculture Load/Aquaculture Load.xlsx\"\n",
    "args['fixed_num_pen'] = 12\n",
    "\n",
    "x_init, p_init, x, res_best, p_best, op_obj = wpaf_opt(all_vars, args)\n",
    "\n",
    "aqua_init_obj = Aqua_Obj(x_init.nom0, x_init.name, p_init.nom_dict)\n",
    "aqua_opt_obj = Aqua_Obj(res_best.x, x.name, p_best) \n",
    "\n",
    "init_result(aqua_init_obj)\n",
    "optimize_result(aqua_opt_obj, x.list, x.unit, res_best)"
   ]
  },
  {
   "cell_type": "markdown",
   "metadata": {},
   "source": [
    "# Plot power"
   ]
  },
  {
   "cell_type": "code",
   "execution_count": 2,
   "metadata": {},
   "outputs": [
    {
     "data": {
      "image/png": "[encoded data removed]",
      "text/plain": [
       "<Figure size 432x288 with 1 Axes>"
      ]
     },
     "metadata": {
      "needs_background": "light"
     },
     "output_type": "display_data"
    },
    {
     "data": {
      "image/png": "[encoded data removed]",
      "text/plain": [
       "<Figure size 432x288 with 1 Axes>"
      ]
     },
     "metadata": {
      "needs_background": "light"
     },
     "output_type": "display_data"
    },
    {
     "data": {
      "image/png": "[encoded data removed]",
      "text/plain": [
       "<Figure size 432x288 with 1 Axes>"
      ]
     },
     "metadata": {
      "needs_background": "light"
     },
     "output_type": "display_data"
    },
    {
     "data": {
      "image/png": "[encoded data removed]",
      "text/plain": [
       "<Figure size 432x288 with 1 Axes>"
      ]
     },
     "metadata": {
      "needs_background": "light"
     },
     "output_type": "display_data"
    },
    {
     "data": {
      "image/png": "[encoded data removed]",
      "text/plain": [
       "<Figure size 432x288 with 1 Axes>"
      ]
     },
     "metadata": {
      "needs_background": "light"
     },
     "output_type": "display_data"
    }
   ],
   "source": [
    "aqua_opt_obj.plot_power()"
   ]
  },
  {
   "cell_type": "markdown",
   "metadata": {},
   "source": [
    "# Plot fish growth and fish oxygen demand"
   ]
  },
  {
   "cell_type": "code",
   "execution_count": 3,
   "metadata": {},
   "outputs": [],
   "source": [
    "aqua_opt_obj.plot_variable()"
   ]
  },
  {
   "cell_type": "markdown",
   "metadata": {},
   "source": [
    "# Plot objective function and constraints"
   ]
  },
  {
   "cell_type": "code",
   "execution_count": 4,
   "metadata": {},
   "outputs": [
    {
     "ename": "NameError",
     "evalue": "name 'plt' is not defined",
     "output_type": "error",
     "traceback": [
      "\u001b[0;31m---------------------------------------------------------------------------\u001b[0m",
      "\u001b[0;31mNameError\u001b[0m                                 Traceback (most recent call last)",
      "\u001b[0;32m<ipython-input-4-2f43b1fe1858>\u001b[0m in \u001b[0;36m<module>\u001b[0;34m\u001b[0m\n\u001b[0;32m----> 1\u001b[0;31m \u001b[0mfig\u001b[0m\u001b[0;34m,\u001b[0m \u001b[0max\u001b[0m \u001b[0;34m=\u001b[0m \u001b[0mplt\u001b[0m\u001b[0;34m.\u001b[0m\u001b[0msubplots\u001b[0m\u001b[0;34m(\u001b[0m\u001b[0;36m1\u001b[0m\u001b[0;34m,\u001b[0m\u001b[0;36m1\u001b[0m\u001b[0;34m)\u001b[0m\u001b[0;34m\u001b[0m\u001b[0;34m\u001b[0m\u001b[0m\n\u001b[0m\u001b[1;32m      2\u001b[0m \u001b[0max\u001b[0m\u001b[0;34m.\u001b[0m\u001b[0mplot\u001b[0m\u001b[0;34m(\u001b[0m\u001b[0mop_obj\u001b[0m\u001b[0;34m.\u001b[0m\u001b[0mf\u001b[0m\u001b[0;34m,\u001b[0m \u001b[0mlabel\u001b[0m\u001b[0;34m=\u001b[0m\u001b[0;34m'obj_out'\u001b[0m\u001b[0;34m,\u001b[0m \u001b[0mmarker\u001b[0m\u001b[0;34m=\u001b[0m\u001b[0;34m'*'\u001b[0m\u001b[0;34m)\u001b[0m\u001b[0;34m\u001b[0m\u001b[0;34m\u001b[0m\u001b[0m\n\u001b[1;32m      3\u001b[0m \u001b[0max\u001b[0m\u001b[0;34m.\u001b[0m\u001b[0mset\u001b[0m\u001b[0;34m(\u001b[0m\u001b[0mxlabel\u001b[0m\u001b[0;34m=\u001b[0m\u001b[0;34m'Iterations'\u001b[0m\u001b[0;34m,\u001b[0m \u001b[0mylabel\u001b[0m\u001b[0;34m=\u001b[0m\u001b[0;34m'Cost_per_yield [$/kg]'\u001b[0m\u001b[0;34m)\u001b[0m\u001b[0;34m\u001b[0m\u001b[0;34m\u001b[0m\u001b[0m\n\u001b[1;32m      4\u001b[0m \u001b[0max\u001b[0m\u001b[0;34m.\u001b[0m\u001b[0mlegend\u001b[0m\u001b[0;34m(\u001b[0m\u001b[0;34m)\u001b[0m\u001b[0;34m\u001b[0m\u001b[0;34m\u001b[0m\u001b[0m\n\u001b[1;32m      5\u001b[0m \u001b[0max\u001b[0m\u001b[0;34m.\u001b[0m\u001b[0mgrid\u001b[0m\u001b[0;34m(\u001b[0m\u001b[0;32mTrue\u001b[0m\u001b[0;34m)\u001b[0m\u001b[0;34m\u001b[0m\u001b[0;34m\u001b[0m\u001b[0m\n",
      "\u001b[0;31mNameError\u001b[0m: name 'plt' is not defined"
     ]
    }
   ],
   "source": [
    "fig, ax = plt.subplots(1,1)\n",
    "ax.plot(op_obj.f, label='obj_out', marker='*')\n",
    "ax.set(xlabel='Iterations', ylabel='Cost_per_yield [$/kg]')\n",
    "ax.legend()\n",
    "ax.grid(True)\n",
    "plt.show()"
   ]
  },
  {
   "cell_type": "code",
   "execution_count": null,
   "metadata": {},
   "outputs": [],
   "source": [
    "ax1 = plt.subplot(3,1,1)\n",
    "ax1.plot(op_obj.ineq[:, 0], 'r', label='P_gen_cons', marker='*')\n",
    "ax1.set(xlabel='Iterations', ylabel='P_gen_cons [kWh]');\n",
    "ax1.legend()\n",
    "ax1.grid(True)\n",
    "plt.show()\n",
    "\n",
    "ax2 = plt.subplot(3,1,2)\n",
    "ax2.plot(op_obj.ineq[:, 1], 'r', label='fish_yield_cons', marker='*')\n",
    "ax2.set(xlabel='Iterations', ylabel='Fish_yield_cons [kg]');\n",
    "ax2.legend()\n",
    "ax2.grid(True)\n",
    "plt.show()\n"
   ]
  }
 ],
 "metadata": {
  "kernelspec": {
   "display_name": "Python 3.9.12 ('base')",
   "language": "python",
   "name": "python3"
  },
  "language_info": {
   "codemirror_mode": {
    "name": "ipython",
    "version": 3
   },
   "file_extension": ".py",
   "mimetype": "text/x-python",
   "name": "python",
   "nbconvert_exporter": "python",
   "pygments_lexer": "ipython3",
   "version": "3.8.8"
  },
  "vscode": {
   "interpreter": {
    "hash": "b73e368f810b6b8738085c018d1b5c90c75f8ea0c7544278c5262883b126363f"
   }
  }
 },
 "nbformat": 4,
 "nbformat_minor": 2
}
