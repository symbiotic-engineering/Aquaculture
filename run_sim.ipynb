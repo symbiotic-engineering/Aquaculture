{
 "cells": [
  {
   "cell_type": "code",
   "execution_count": 2,
   "metadata": {},
   "outputs": [
    {
     "data": {
      "text/plain": [
       "     fun: array(117673.98839349)\n",
       "     jac: array([    0.        , -4706.78808594, -9294.375     ])\n",
       " message: 'Positive directional derivative for linesearch'\n",
       "    nfev: 22\n",
       "     nit: 7\n",
       "    njev: 3\n",
       "  status: 8\n",
       " success: False\n",
       "       x: array([30.        , 50.        , 12.66031362])"
      ]
     },
     "execution_count": 2,
     "metadata": {},
     "output_type": "execute_result"
    }
   ],
   "source": [
    "import modules\n",
    "import numpy as np\n",
    "import importlib\n",
    "importlib.reload(modules)\n",
    "from scipy.optimize import minimize\n",
    "\n",
    "\n",
    "# design variables\n",
    "x_name = ['x_wec','x_pen']\n",
    "x_list = modules.variable_lookup(x_name)\n",
    "x_list_default_values = modules.default_values(x_name)\n",
    "x_list_bnds_values = modules.bnds_values(x_name)\n",
    "x0 = []\n",
    "x0_bnds = []\n",
    "for i in range(len(x_list)):\n",
    "    x0.append(x_list_default_values[x_list[i]])\n",
    "    x0_bnds.append(x_list_bnds_values[x_list[i]])\n",
    "\n",
    "# parameters\n",
    "wec_types = ['attenuator','terminator','point absorber']\n",
    "\n",
    "# fill default parameters\n",
    "all_vars = ['x_wec','x_wec_type','x_pen','p_pen','x_env','p_wec','p_fish_salmon']\n",
    "\n",
    "default_vars = []\n",
    "for i in range(len(all_vars)):\n",
    "    if all_vars[i] not in x_name:\n",
    "        default_vars.append(all_vars[i])\n",
    "\n",
    "p = modules.default_values(default_vars)\n",
    "        \n",
    "# simulation\n",
    "J = modules.obj(x0,x_name, p)\n",
    "\n",
    "#optimization\n",
    "opt_idx = 0\n",
    "res={}\n",
    "for i in range(len(wec_types)):\n",
    "    p['wec_type'] = wec_types[i]\n",
    "    \n",
    "    arguments = (x_name, p)\n",
    "\n",
    "    cons = ({'type': 'ineq', 'fun': modules.ineq_constraint, 'args': arguments},\n",
    "            {'type': 'eq', 'fun': modules.eq_constraint, 'args': arguments})\n",
    "    \n",
    "    res[i] = minimize(modules.obj, x0, args=arguments, method='SLSQP', bounds=x0_bnds, constraints=cons)\n",
    "    #print(res[i], '\\n')\n",
    "    \n",
    "    if res[i].fun < res[opt_idx].fun:\n",
    "        opt_idx = i\n",
    "\n",
    "\n",
    "res[opt_idx]"
   ]
  },
  {
   "cell_type": "code",
   "execution_count": null,
   "metadata": {},
   "outputs": [],
   "source": []
  },
  {
   "cell_type": "code",
   "execution_count": null,
   "metadata": {},
   "outputs": [],
   "source": []
  }
 ],
 "metadata": {
  "interpreter": {
   "hash": "70d716d60c7125946bae5b6410d17d7db20c009fdba01f9f34555fb5477892d1"
  },
  "kernelspec": {
   "display_name": "Python 3",
   "language": "python",
   "name": "python3"
  },
  "language_info": {
   "codemirror_mode": {
    "name": "ipython",
    "version": 3
   },
   "file_extension": ".py",
   "mimetype": "text/x-python",
   "name": "python",
   "nbconvert_exporter": "python",
   "pygments_lexer": "ipython3",
   "version": "3.8.8"
  }
 },
 "nbformat": 4,
 "nbformat_minor": 2
}
