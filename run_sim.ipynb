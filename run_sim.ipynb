{
 "cells": [
  {
   "cell_type": "code",
   "execution_count": 1,
   "metadata": {},
   "outputs": [
    {
     "name": "stdout",
     "output_type": "stream",
     "text": [
      "x_type_wec\n",
      "p_pen\n",
      "x_env\n",
      "p_wec\n",
      "p_fish_salmon\n"
     ]
    },
    {
     "data": {
      "text/plain": [
       "     fun: array(743.72079276)\n",
       "     jac: array([ 33.31334686, -77.04718781, -74.36236572])\n",
       " message: 'Positive directional derivative for linesearch'\n",
       "    nfev: 251\n",
       "     nit: 31\n",
       "    njev: 27\n",
       "  status: 8\n",
       " success: False\n",
       "       x: array([22.3221026 , 19.30433389, 10.        ])"
      ]
     },
     "execution_count": 1,
     "metadata": {},
     "output_type": "execute_result"
    }
   ],
   "source": [
    "import modules\n",
    "import numpy as np\n",
    "import importlib\n",
    "importlib.reload(modules)\n",
    "from scipy.optimize import minimize\n",
    "\n",
    "\n",
    "# design variables\n",
    "x_name = ['x_wec','x_pen']\n",
    "x_list = modules.variable_lookup(x_name)\n",
    "x_list_default_values = modules.default_values(x_name)\n",
    "x_list_bnds_values = modules.bnds_values(x_name)\n",
    "x0 = []\n",
    "x0_bnds = []\n",
    "for i in range(len(x_list)):\n",
    "    x0.append(x_list_default_values[x_list[i]])\n",
    "    x0_bnds.append(x_list_bnds_values[x_list[i]])\n",
    "\n",
    "# parameters\n",
    "wec_types = ['attenuator','terminator','point absorber']\n",
    "\n",
    "# fill default parameters\n",
    "all_vars = ['x_wec','x_type_wec','x_pen','p_pen','x_env','p_wec','p_fish_salmon']\n",
    "\n",
    "default_vars = []\n",
    "for i in range(len(all_vars)):\n",
    "    if all_vars[i] not in x_name:\n",
    "        print(all_vars[i])\n",
    "        default_vars.append(all_vars[i])\n",
    "\n",
    "p = modules.default_values(default_vars)\n",
    "\n",
    "# simulation\n",
    "J = modules.obj(x0,x_name, p)\n",
    "\n",
    "#optimization\n",
    "opt_idx = 0\n",
    "res={}\n",
    "for i in range(len(wec_types)):\n",
    "    p['wec_type'] = wec_types[i]\n",
    "    \n",
    "    arguments = (x_name, p)\n",
    "\n",
    "    cons = ({'type': 'ineq', 'fun': modules.ineq_constraint, 'args': arguments},\n",
    "            {'type': 'eq', 'fun': modules.eq_constraint, 'args': arguments})\n",
    "    \n",
    "    res[i] = minimize(modules.obj, x0, args=arguments, method='SLSQP', bounds=x0_bnds, constraints=cons)\n",
    "    #print(res[i], '\\n')\n",
    "    \n",
    "    if res[i].fun < res[opt_idx].fun:\n",
    "        opt_idx = i\n",
    "\n",
    "\n",
    "res[opt_idx]"
   ]
  },
  {
   "cell_type": "code",
   "execution_count": 2,
   "metadata": {
    "scrolled": false
   },
   "outputs": [
    {
     "data": {
      "text/plain": [
       "<matplotlib.legend.Legend at 0x7fb9b185b1c0>"
      ]
     },
     "execution_count": 2,
     "metadata": {},
     "output_type": "execute_result"
    },
    {
     "data": {
      "image/png": "[encoded data removed]",
      "text/plain": [
       "<Figure size 576x432 with 1 Axes>"
      ]
     },
     "metadata": {
      "needs_background": "light"
     },
     "output_type": "display_data"
    }
   ],
   "source": [
    "from matplotlib import pyplot as plt\n",
    "a = np.linspace(0,50,51)\n",
    "y_values = np.zeros(len(a))\n",
    "x_name = ['x_wec','x_pen']\n",
    "for i in range(len(a)):\n",
    "    x0 = [a[i], 10, 10]\n",
    "    y_values[i] = modules.obj(x0,x_name, p)\n",
    "    #print(x0, y_values[i])\n",
    "\n",
    "fig, ax = plt.subplots(figsize=(8,6))\n",
    "ax.plot(a, y_values, label='randomForest_b')\n",
    "ax.axvline(0, label='Your start value', color='g', ls='--')\n",
    "ax.set(xlabel='a', ylabel='randomForest_b');\n",
    "ax.legend()"
   ]
  },
  {
   "cell_type": "code",
   "execution_count": null,
   "metadata": {},
   "outputs": [],
   "source": []
  }
 ],
 "metadata": {
  "interpreter": {
   "hash": "70d716d60c7125946bae5b6410d17d7db20c009fdba01f9f34555fb5477892d1"
  },
  "kernelspec": {
   "display_name": "Python 3",
   "language": "python",
   "name": "python3"
  },
  "language_info": {
   "codemirror_mode": {
    "name": "ipython",
    "version": 3
   },
   "file_extension": ".py",
   "mimetype": "text/x-python",
   "name": "python",
   "nbconvert_exporter": "python",
   "pygments_lexer": "ipython3",
   "version": "3.8.8"
  }
 },
 "nbformat": 4,
 "nbformat_minor": 2
}
