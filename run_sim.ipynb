{
 "cells": [
  {
   "cell_type": "code",
   "execution_count": 2,
   "metadata": {},
   "outputs": [
    {
     "data": {
      "text/plain": [
       "     fun: array(1.70060827e-07)\n",
       "     jac: array([ 9.92340383e-25, -1.93071122e-17, -3.55271368e-15])\n",
       " message: 'Optimization terminated successfully'\n",
       "    nfev: 94\n",
       "     nit: 19\n",
       "    njev: 18\n",
       "  status: 0\n",
       " success: True\n",
       "       x: array([6.31106399e+13, 8.81143960e+09, 1.94419935e+07])"
      ]
     },
     "execution_count": 2,
     "metadata": {},
     "output_type": "execute_result"
    }
   ],
   "source": [
    "import modules\n",
    "import numpy as np\n",
    "import importlib\n",
    "importlib.reload(modules)\n",
    "from scipy.optimize import minimize\n",
    "\n",
    "\n",
    "# design variables\n",
    "x0 = [10, # 'capture_width'\n",
    "      1,  # 'pen_diameter'\n",
    "      0.5 # 'pen_height'\n",
    "     ]\n",
    "\n",
    "# parameters\n",
    "wec_types = ['attenuator','terminator','point absorber']\n",
    "capture_width_ratios = [0.5, 0.5, 0.5]\n",
    "wave_dampings = [0.5, 0.5, 0.5]\n",
    "\n",
    "\n",
    "p = {'wec_type': 'point absorber',\n",
    "    'wave_height': 2,\n",
    "    'wave_period': 5,\n",
    "    'wave_damping_dict': dict(zip(wec_types, wave_dampings)),\n",
    "    'capture_width_ratio_dict': dict(zip(wec_types, capture_width_ratios)),\n",
    "    'wec_unit_cost': 1000,\n",
    "    'pen_unit_cost': 1000,\n",
    "    'loss_rate': 0.15,\n",
    "    'num_pens': 8,\n",
    "    'spacing': 10,\n",
    "    'harvest_weight': 1,\n",
    "    'stocking_density': 1,\n",
    "    'temp' : 1,\n",
    "     #env_params\n",
    "    'O2_in': 1,\n",
    "    'O2_min': .9,\n",
    "    'P_f': 1,\n",
    "    'P_p': 1,\n",
    "    'U_min': 1,\n",
    "    'tau': 1,\n",
    "    'permeability': 1,\n",
    "    'F_f': 1,\n",
    "    'F_p': 1,\n",
    "    'F_c': 1,\n",
    "    'A_f': 1,\n",
    "    'A_p': 1,\n",
    "    'A_c': 1,\n",
    "    'O_f': 1,\n",
    "    'O_p': 1,\n",
    "    'O_c': 1,\n",
    "    'C_f': 1,\n",
    "    'C_p': 1,\n",
    "    'C_c': 1}\n",
    "\n",
    "# simulation\n",
    "J = modules.obj(x0,p)\n",
    "\n",
    "#optimization\n",
    "opt_idx = 0\n",
    "res={}\n",
    "for i in range(len(wec_types)):\n",
    "    p['wec_type'] = wec_types[i]\n",
    "    \n",
    "    arguments = (p,)\n",
    "\n",
    "    cons = ({'type': 'ineq', 'fun': modules.ineq_constraint, 'args': arguments},\n",
    "            {'type': 'eq', 'fun': modules.eq_constraint, 'args': arguments})\n",
    "\n",
    "    bnds = tuple((0,1) for x in x0)\n",
    "\n",
    "    res[i] = minimize(modules.obj, x0, args=arguments, method='SLSQP', constraints=cons)\n",
    "    #print(res[i], '\\n')\n",
    "    \n",
    "    if res[i].fun < res[opt_idx].fun:\n",
    "        opt_idx = i\n",
    "\n",
    "\n",
    "res[opt_idx]"
   ]
  },
  {
   "cell_type": "code",
   "execution_count": null,
   "metadata": {},
   "outputs": [],
   "source": []
  }
 ],
 "metadata": {
  "interpreter": {
   "hash": "70d716d60c7125946bae5b6410d17d7db20c009fdba01f9f34555fb5477892d1"
  },
  "kernelspec": {
   "display_name": "Python 3",
   "language": "python",
   "name": "python3"
  },
  "language_info": {
   "codemirror_mode": {
    "name": "ipython",
    "version": 3
   },
   "file_extension": ".py",
   "mimetype": "text/x-python",
   "name": "python",
   "nbconvert_exporter": "python",
   "pygments_lexer": "ipython3",
   "version": "3.8.8"
  }
 },
 "nbformat": 4,
 "nbformat_minor": 2
}
