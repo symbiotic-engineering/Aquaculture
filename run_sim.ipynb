{
 "cells": [
  {
   "cell_type": "code",
   "execution_count": 1,
   "metadata": {},
   "outputs": [
    {
     "name": "stdout",
     "output_type": "stream",
     "text": [
      "8.750000000000002\n",
      "carrying capacity:  -0.0\n"
     ]
    },
    {
     "ename": "TypeError",
     "evalue": "'float' object is not iterable",
     "output_type": "error",
     "traceback": [
      "\u001b[1;31m---------------------------------------------------------------------------\u001b[0m",
      "\u001b[1;31mTypeError\u001b[0m                                 Traceback (most recent call last)",
      "\u001b[1;32m~\\AppData\\Local\\Temp/ipykernel_1672/2066724495.py\u001b[0m in \u001b[0;36m<module>\u001b[1;34m\u001b[0m\n\u001b[0;32m     48\u001b[0m \u001b[1;33m\u001b[0m\u001b[0m\n\u001b[0;32m     49\u001b[0m \u001b[1;31m# simulation\u001b[0m\u001b[1;33m\u001b[0m\u001b[1;33m\u001b[0m\u001b[0m\n\u001b[1;32m---> 50\u001b[1;33m \u001b[0mJ\u001b[0m\u001b[1;33m,\u001b[0m \u001b[0mg\u001b[0m\u001b[1;33m,\u001b[0m \u001b[0mh\u001b[0m \u001b[1;33m=\u001b[0m \u001b[0mmodules\u001b[0m\u001b[1;33m.\u001b[0m\u001b[0msim\u001b[0m\u001b[1;33m(\u001b[0m\u001b[0mx\u001b[0m\u001b[1;33m,\u001b[0m\u001b[0mp\u001b[0m\u001b[1;33m)\u001b[0m\u001b[1;33m\u001b[0m\u001b[1;33m\u001b[0m\u001b[0m\n\u001b[0m\u001b[0;32m     51\u001b[0m \u001b[1;33m\u001b[0m\u001b[0m\n",
      "\u001b[1;32mc:\\Users\\chess\\Documents\\GitHub\\research\\aquaculture\\modules.py\u001b[0m in \u001b[0;36msim\u001b[1;34m(x, p)\u001b[0m\n\u001b[0;32m     21\u001b[0m     \u001b[0mfish_yield\u001b[0m \u001b[1;33m=\u001b[0m \u001b[0mfish\u001b[0m\u001b[1;33m(\u001b[0m\u001b[0mwave_out\u001b[0m\u001b[1;33m,\u001b[0m\u001b[0mpen\u001b[0m\u001b[1;33m)\u001b[0m\u001b[1;33m\u001b[0m\u001b[1;33m\u001b[0m\u001b[0m\n\u001b[0;32m     22\u001b[0m     \u001b[0mpow\u001b[0m \u001b[1;33m=\u001b[0m \u001b[0mpower\u001b[0m\u001b[1;33m(\u001b[0m\u001b[0mwec\u001b[0m\u001b[1;33m,\u001b[0m \u001b[0mwave_in\u001b[0m\u001b[1;33m)\u001b[0m\u001b[1;33m\u001b[0m\u001b[1;33m\u001b[0m\u001b[0m\n\u001b[1;32m---> 23\u001b[1;33m     \u001b[0mcarrying_capacity\u001b[0m \u001b[1;33m=\u001b[0m \u001b[0menvironment\u001b[0m\u001b[1;33m(\u001b[0m\u001b[0mpen\u001b[0m\u001b[1;33m)\u001b[0m\u001b[1;33m\u001b[0m\u001b[1;33m\u001b[0m\u001b[0m\n\u001b[0m\u001b[0;32m     24\u001b[0m     \u001b[0mprice\u001b[0m \u001b[1;33m=\u001b[0m \u001b[0mecon\u001b[0m\u001b[1;33m(\u001b[0m\u001b[0mwec\u001b[0m\u001b[1;33m,\u001b[0m \u001b[0mpen\u001b[0m\u001b[1;33m)\u001b[0m\u001b[1;33m\u001b[0m\u001b[1;33m\u001b[0m\u001b[0m\n\u001b[0;32m     25\u001b[0m \u001b[1;33m\u001b[0m\u001b[0m\n",
      "\u001b[1;32mc:\\Users\\chess\\Documents\\GitHub\\research\\aquaculture\\modules.py\u001b[0m in \u001b[0;36menvironment\u001b[1;34m(pen)\u001b[0m\n\u001b[0;32m     73\u001b[0m     \u001b[1;32massert\u001b[0m\u001b[1;33m(\u001b[0m\u001b[0misinstance\u001b[0m\u001b[1;33m(\u001b[0m\u001b[0mpen\u001b[0m\u001b[1;33m,\u001b[0m\u001b[0mPen\u001b[0m\u001b[1;33m)\u001b[0m\u001b[1;33m)\u001b[0m\u001b[1;33m\u001b[0m\u001b[1;33m\u001b[0m\u001b[0m\n\u001b[0;32m     74\u001b[0m \u001b[1;33m\u001b[0m\u001b[0m\n\u001b[1;32m---> 75\u001b[1;33m     \u001b[1;32mreturn\u001b[0m \u001b[0mpen\u001b[0m\u001b[1;33m.\u001b[0m\u001b[0mcarrying_capacity\u001b[0m\u001b[1;33m\u001b[0m\u001b[1;33m\u001b[0m\u001b[0m\n\u001b[0m",
      "\u001b[1;32mc:\\Users\\chess\\Documents\\GitHub\\research\\aquaculture\\objects.py\u001b[0m in \u001b[0;36mcarrying_capacity\u001b[1;34m(self)\u001b[0m\n\u001b[0;32m    154\u001b[0m         \u001b[0mcarrying_capacity\u001b[0m \u001b[1;33m=\u001b[0m \u001b[1;33m(\u001b[0m\u001b[0mself\u001b[0m\u001b[1;33m.\u001b[0m\u001b[0mO2_in\u001b[0m \u001b[1;33m-\u001b[0m \u001b[0mself\u001b[0m\u001b[1;33m.\u001b[0m\u001b[0mO2_min\u001b[0m\u001b[1;33m)\u001b[0m \u001b[1;33m*\u001b[0m \u001b[0mlength\u001b[0m \u001b[1;33m*\u001b[0m \u001b[0mself\u001b[0m\u001b[1;33m.\u001b[0m\u001b[0mH\u001b[0m \u001b[1;33m*\u001b[0m \u001b[0mself\u001b[0m\u001b[1;33m.\u001b[0m\u001b[0mpermeability\u001b[0m \u001b[1;33m*\u001b[0m \u001b[0mself\u001b[0m\u001b[1;33m.\u001b[0m\u001b[0mU_min\u001b[0m \u001b[1;33m/\u001b[0m \u001b[0mself\u001b[0m\u001b[1;33m.\u001b[0m\u001b[0mDO2\u001b[0m\u001b[1;33m\u001b[0m\u001b[1;33m\u001b[0m\u001b[0m\n\u001b[0;32m    155\u001b[0m         \u001b[0mprint\u001b[0m\u001b[1;33m(\u001b[0m\u001b[1;34m'carrying capacity: '\u001b[0m\u001b[1;33m,\u001b[0m \u001b[0mcarrying_capacity\u001b[0m\u001b[1;33m)\u001b[0m\u001b[1;33m\u001b[0m\u001b[1;33m\u001b[0m\u001b[0m\n\u001b[1;32m--> 156\u001b[1;33m         \u001b[1;32mreturn\u001b[0m \u001b[0mmin\u001b[0m\u001b[1;33m(\u001b[0m\u001b[0mcarrying_capacity\u001b[0m\u001b[1;33m)\u001b[0m\u001b[1;33m\u001b[0m\u001b[1;33m\u001b[0m\u001b[0m\n\u001b[0m\u001b[0;32m    157\u001b[0m \u001b[1;33m\u001b[0m\u001b[0m\n",
      "\u001b[1;31mTypeError\u001b[0m: 'float' object is not iterable"
     ]
    }
   ],
   "source": [
    "import modules\n",
    "import importlib\n",
    "importlib.reload(modules)\n",
    "\n",
    "# design variables\n",
    "x = {'capture_width': 10,\n",
    "    'wec_type': 'point absorber',\n",
    "    'pen_diameter': 1,\n",
    "    'pen_height': 0.5 }\n",
    "\n",
    "# parameters\n",
    "wec_types = ['attenuator','terminator','point absorber']\n",
    "capture_width_ratios = [0.5, 0.5, 0.5]\n",
    "wave_dampings = [0.5, 0.5, 0.5]\n",
    "\n",
    "env_params = {'O2_in': 1,\n",
    "            'O2_min': 1,\n",
    "            'P_f': 1,\n",
    "            'P_p': 1,\n",
    "            'U_min': 1,\n",
    "            'tau': 1,\n",
    "            'permeability': 1,\n",
    "            'F_f': 1,\n",
    "            'F_p': 1,\n",
    "            'F_c': 1,\n",
    "            'A_f': 1,\n",
    "            'A_p': 1,\n",
    "            'A_c': 1,\n",
    "            'O_f': 1,\n",
    "            'O_p': 1,\n",
    "            'O_c': 1,\n",
    "            'C_f': 1,\n",
    "            'C_p': 1,\n",
    "            'C_c': 1}\n",
    "\n",
    "p = {'wave_height': 2,\n",
    "    'wave_period': 5,\n",
    "    'wave_damping_dict': dict(zip(wec_types, wave_dampings)),\n",
    "    'capture_width_ratio_dict': dict(zip(wec_types, capture_width_ratios)),\n",
    "    'wec_unit_cost': 1000,\n",
    "    'pen_unit_cost': 1000,\n",
    "    'env_params':env_params,\n",
    "    'loss_rate': 0.15,\n",
    "    'num_pens': 8,\n",
    "    'spacing': 10,\n",
    "    'harvest_weight': 1,\n",
    "    'stocking_density': 1}\n",
    "\n",
    "# simulation\n",
    "J, g, h = modules.sim(x,p)\n",
    "\n"
   ]
  }
 ],
 "metadata": {
  "interpreter": {
   "hash": "70d716d60c7125946bae5b6410d17d7db20c009fdba01f9f34555fb5477892d1"
  },
  "kernelspec": {
   "display_name": "Python 3.7.7 64-bit",
   "language": "python",
   "name": "python3"
  },
  "language_info": {
   "codemirror_mode": {
    "name": "ipython",
    "version": 3
   },
   "file_extension": ".py",
   "mimetype": "text/x-python",
   "name": "python",
   "nbconvert_exporter": "python",
   "pygments_lexer": "ipython3",
   "version": "3.9.7"
  },
  "orig_nbformat": 4
 },
 "nbformat": 4,
 "nbformat_minor": 2
}
