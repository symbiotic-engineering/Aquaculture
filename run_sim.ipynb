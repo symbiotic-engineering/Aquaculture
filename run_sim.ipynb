{
 "cells": [
  {
   "cell_type": "code",
   "execution_count": 1,
   "metadata": {},
   "outputs": [
    {
     "data": {
      "text/plain": [
       "     fun: array(2.26485211e-05)\n",
       "     jac: array([0.00000000e+00, 0.00000000e+00, 4.54747351e-13])\n",
       " message: 'Optimization terminated successfully'\n",
       "    nfev: 276\n",
       "     nit: 66\n",
       "    njev: 66\n",
       "  status: 0\n",
       " success: True\n",
       "       x: array([1.00000000e+01, 6.61380437e+07, 5.12393575e+03])"
      ]
     },
     "execution_count": 1,
     "metadata": {},
     "output_type": "execute_result"
    }
   ],
   "source": [
    "import modules\n",
    "import numpy as np\n",
    "import importlib\n",
    "importlib.reload(modules)\n",
    "from scipy.optimize import minimize\n",
    "\n",
    "\n",
    "# design variables\n",
    "x_name = ['x_wec','x_pen']\n",
    "x_list = modules.variable_lookup(x_name)\n",
    "x_list_default_values = modules.default_values(x_name)\n",
    "x0 = []\n",
    "for i in range(len(x_list)):\n",
    "    x0.append(x_list_default_values[x_list[i]])\n",
    "\n",
    "# parameters\n",
    "wec_types = ['attenuator','terminator','point absorber']\n",
    "\n",
    "# fill default parameters\n",
    "all_vars = ['x_wec','x_wec_type','x_pen','p_pen','x_env','p_fish','p_wec']\n",
    "\n",
    "default_vars = []\n",
    "for i in range(len(all_vars)):\n",
    "    if all_vars[i] not in x_name:\n",
    "        default_vars.append(all_vars[i])\n",
    "\n",
    "p = modules.default_values(default_vars)\n",
    "\n",
    "# simulation\n",
    "J = modules.obj(x0,x_name, p)\n",
    "\n",
    "#optimization\n",
    "opt_idx = 0\n",
    "res={}\n",
    "for i in range(len(wec_types)):\n",
    "    p['wec_type'] = wec_types[i]\n",
    "    \n",
    "    arguments = (x_name, p)\n",
    "\n",
    "    cons = ({'type': 'ineq', 'fun': modules.ineq_constraint, 'args': arguments},\n",
    "            {'type': 'eq', 'fun': modules.eq_constraint, 'args': arguments})\n",
    "\n",
    "    bnds = tuple((0,1) for x in x0)\n",
    "\n",
    "    res[i] = minimize(modules.obj, x0, args=arguments, method='SLSQP', constraints=cons)\n",
    "    #print(res[i], '\\n')\n",
    "    \n",
    "    if res[i].fun < res[opt_idx].fun:\n",
    "        opt_idx = i\n",
    "\n",
    "\n",
    "res[opt_idx]"
   ]
  },
  {
   "cell_type": "code",
   "execution_count": null,
   "metadata": {},
   "outputs": [],
   "source": []
  },
  {
   "cell_type": "code",
   "execution_count": null,
   "metadata": {},
   "outputs": [],
   "source": []
  }
 ],
 "metadata": {
  "interpreter": {
   "hash": "70d716d60c7125946bae5b6410d17d7db20c009fdba01f9f34555fb5477892d1"
  },
  "kernelspec": {
   "display_name": "Python 3",
   "language": "python",
   "name": "python3"
  },
  "language_info": {
   "codemirror_mode": {
    "name": "ipython",
    "version": 3
   },
   "file_extension": ".py",
   "mimetype": "text/x-python",
   "name": "python",
   "nbconvert_exporter": "python",
   "pygments_lexer": "ipython3",
   "version": "3.8.8"
  }
 },
 "nbformat": 4,
 "nbformat_minor": 2
}
