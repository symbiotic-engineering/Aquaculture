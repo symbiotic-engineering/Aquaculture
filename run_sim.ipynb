{
 "cells": [
  {
   "cell_type": "code",
   "execution_count": 3,
   "metadata": {},
   "outputs": [],
   "source": [
    "import modules\n",
    "import importlib\n",
    "importlib.reload(modules)\n",
    "\n",
    "# design variables\n",
    "x = {'capture_width': 10,\n",
    "    'wec_type': 'point absorber',\n",
    "    'pen_diameter': 1,\n",
    "    'pen_height': 0.5 }\n",
    "\n",
    "# parameters\n",
    "wec_types = ['attenuator','terminator','point absorber']\n",
    "capture_width_ratios = [0.5, 0.5, 0.5]\n",
    "wave_dampings = [0.5, 0.5, 0.5]\n",
    "\n",
    "p = {'wave_height': 2,\n",
    "    'wave_period': 5,\n",
    "    'wave_damping_dict': dict(zip(wec_types, wave_dampings)),\n",
    "    'capture_width_ratio_dict': dict(zip(wec_types, capture_width_ratios)),\n",
    "    'wec_unit_cost': 1000,\n",
    "    'pen_unit_cost': 1000}\n",
    "\n",
    "J, g, h = modules.sim(x,p)\n",
    "\n"
   ]
  }
 ],
 "metadata": {
  "interpreter": {
   "hash": "70d716d60c7125946bae5b6410d17d7db20c009fdba01f9f34555fb5477892d1"
  },
  "kernelspec": {
   "display_name": "Python 3.7.7 64-bit",
   "language": "python",
   "name": "python3"
  },
  "language_info": {
   "codemirror_mode": {
    "name": "ipython",
    "version": 3
   },
   "file_extension": ".py",
   "mimetype": "text/x-python",
   "name": "python",
   "nbconvert_exporter": "python",
   "pygments_lexer": "ipython3",
   "version": "3.9.7"
  },
  "orig_nbformat": 4
 },
 "nbformat": 4,
 "nbformat_minor": 2
}
