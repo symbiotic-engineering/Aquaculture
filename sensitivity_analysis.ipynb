{
 "cells": [
  {
   "attachments": {},
   "cell_type": "markdown",
   "metadata": {},
   "source": [
    "# Sensitivity Analysis for Single Objective Optimization"
   ]
  },
  {
   "cell_type": "code",
   "execution_count": 1,
   "metadata": {},
   "outputs": [
    {
     "name": "stdout",
     "output_type": "stream",
     "text": [
      "Sensitivity of objective function to optimal design variables (Identify key driver):\n",
      "\n",
      "                      cost_per_fishyield   cost                 levelized_fishyield \n",
      "capture_width*        | -0.088422          | -0.088422          |  0                 |\n",
      "pen_diameter*         |  0.238793          |  3.414733          |  3.172687          |\n",
      "stock_density*        |  0.033558          |  1.033854          |  1.000000          |\n",
      "\n",
      "Execution time: 0.9256279468536377 seconds\n"
     ]
    }
   ],
   "source": [
    "from wpaf_opt import *\n",
    "import math\n",
    "import time\n",
    "\n",
    "def ratio_finder(f):\n",
    "    # Perturbation Size Δx Choice based on Gill et. al. 1983\n",
    "    eps = 1e-4\n",
    "    delta_X = math.sqrt(eps / abs(f))\n",
    "    \n",
    "    #print('\\ndelta_X= ', \"{:1.2f}\".format(delta_X*100), '%')\n",
    "    ratios = [1-delta_X/2, 1, 1+delta_X/2]\n",
    "    #print('ratios=',ratios)\n",
    "    return ratios\n",
    "\n",
    "def sensitivity_analysis(x, res_best, p):\n",
    "    print('Sensitivity of objective function to optimal design variables (Identify key driver):\\n')\n",
    "\n",
    "    wpaf_obj = WPAF(res_best.x, x.name, p) \n",
    "    x_list, x_nom, x_unit, x_bnds, x_label = optimization.default_value(x.name)\n",
    "    res_list = ['cost_per_fishyield', 'cost', 'levelized_fishyield']\n",
    "\n",
    "    x_ratios = ratio_finder(res_best.fun)\n",
    "    f = np.zeros(shape=(len(wpaf_obj.x0),len(x_ratios), len(res_list)))\n",
    "    df_dxstar = np.zeros(shape=(len(wpaf_obj.x0), len(res_list)))\n",
    "\n",
    "    for x_idx in range(len(wpaf_obj.x0)):\n",
    "        for ratio_idx in range(len(x_ratios)):\n",
    "            x_sweep = copy.deepcopy(wpaf_obj.x0)\n",
    "            x_sweep[x_idx] = x_sweep[x_idx] * x_ratios[ratio_idx]\n",
    "            wpaf_obj_i = WPAF(x_sweep, wpaf_obj.x_name, wpaf_obj.p) \n",
    "\n",
    "            f[x_idx, ratio_idx, :] = [wpaf_obj_i.obj_func, wpaf_obj_i.cost_NPV, wpaf_obj_i.levelized_fish_yield]\n",
    "\n",
    "        idx_nom = x_ratios.index(1)\n",
    "\n",
    "        #suppose we have x_sweep = [x*-eps, x*, x*+eps]\n",
    "        #df = ((f[x* + eps] - f[x*]) - (f[x*] - f[x* - eps])) / f[x*]\n",
    "        #dxstar = ((x* + eps -x*) - (x* - x* - eps)) / x*\n",
    "        #We calculate df / dxstar here:\n",
    "        df = np.divide((f[x_idx,-1,:] - f[x_idx,0,:]), f[x_idx,idx_nom,:])\n",
    "        df_dxstar[x_idx,:] = df / (x_ratios[-1] - x_ratios[0])    \n",
    "    \n",
    "    # print result in a table format\n",
    "    col_width = len(max(x_list+res_list, key=len)) + 1\n",
    "    print(' '*col_width, end='')\n",
    "    for i in range(len(res_list)):\n",
    "        print(' ',res_list[i], ' '*(col_width-len(res_list[i])-2),end='')\n",
    "    print('')\n",
    "    for i in range(len(x_list)):\n",
    "        #print the row title\n",
    "        print(x_list[i],end='')\n",
    "        print('*', ' '*(col_width-len(x_list[i])),end='|')\n",
    "        for j in range(len(res_list)):\n",
    "            #print the values\n",
    "            if (df_dxstar[i,j] == 0):\n",
    "                print('  0', ' '*(col_width-4),end='|')\n",
    "            elif np.isnan(df_dxstar[i,j]):\n",
    "                print(\"  \\x1b[31mFailed\\x1b[0m\", ' '*(col_width-9),end='|')\n",
    "            else:\n",
    "                print(\"{:10.6f}\".format(df_dxstar[i,j]), ' '*(col_width-11),end='|')\n",
    "        print('')\n",
    "     \n",
    "    return df_dxstar, x_list, res_list\n",
    "\n",
    "\n",
    "#find the optimal solution\n",
    "x_init, p_init, x, res_best, p_best, op_obj = wpaf_single_opt()\n",
    "\n",
    "start_time = time.time()\n",
    "\n",
    "df_dxstar, x_list, res_list= sensitivity_analysis(x, res_best, p_best)\n",
    "\n",
    "print('\\nExecution time:', time.time() - start_time, 'seconds')\n",
    "timestr = time.strftime(\"%Y%m%d_%H%M%S\")"
   ]
  },
  {
   "attachments": {},
   "cell_type": "markdown",
   "metadata": {},
   "source": [
    "# Plot Sensitivity Analysis Results"
   ]
  },
  {
   "cell_type": "code",
   "execution_count": 2,
   "metadata": {},
   "outputs": [
    {
     "data": {
      "image/png": "[encoded data removed]",
      "text/plain": [
       "<Figure size 432x288 with 1 Axes>"
      ]
     },
     "metadata": {
      "needs_background": "light"
     },
     "output_type": "display_data"
    }
   ],
   "source": [
    "import matplotlib.pyplot as plt\n",
    "\n",
    "def plot_sensitivity(results, x_label, y_label):\n",
    "    fs = 12\n",
    "    ax = plt.subplot(111)\n",
    "    dim = len(results[0])\n",
    "    w = 0.4\n",
    "    dimw = w / dim    \n",
    "    \n",
    "    x_label = list(map(lambda st: str.replace(st, '_', ' '), x_label))\n",
    "    y_label = list(map(lambda st: str.replace(st, '_', ' '), y_label))\n",
    "    x_label = [label.capitalize() for label in x_label]\n",
    "    y_label = [label.capitalize() for label in y_label]\n",
    "\n",
    "    x = np.arange(len(results))\n",
    "    \n",
    "    for i in range(len(results[0])):\n",
    "        y = [d[i] for d in results]\n",
    "        b = ax.barh(x + i * dimw, y,\n",
    "                    dimw, left = 0.001)\n",
    "  \n",
    "    ax.set_yticks(x + dimw / 2)\n",
    "    ax.set_yticklabels(y_label)    \n",
    "    ax.legend(x_label) #, loc='upper left' # title=\"title\"\n",
    "    Title =  '$\\delta$f/$\\delta$x* Sensitivity'\n",
    "    ax.set_title(Title, fontsize = fs, fontweight = 'bold')\n",
    "\n",
    "    ax.axvline(0, color=\"k\")\n",
    "    \n",
    "    font = {'weight': 'bold',\n",
    "            'size': fs}    \n",
    "    plt.rc('font', **font)\n",
    "\n",
    "    plt.savefig('archived_results/sensitivity_analysis/sensitivity_' + timestr + '.pdf', bbox_inches = \"tight\")\n",
    "    plt.savefig('results/sensitivity_analysis/sensitivity.pdf' )\n",
    "    plt.savefig('results/sensitivity_analysis/sensitivity.png', bbox_inches = \"tight\")\n",
    "\n",
    "plot_sensitivity(df_dxstar, res_list, x_list)"
   ]
  }
 ],
 "metadata": {
  "kernelspec": {
   "display_name": "Python 3",
   "language": "python",
   "name": "python3"
  },
  "language_info": {
   "codemirror_mode": {
    "name": "ipython",
    "version": 3
   },
   "file_extension": ".py",
   "mimetype": "text/x-python",
   "name": "python",
   "nbconvert_exporter": "python",
   "pygments_lexer": "ipython3",
   "version": "3.8.8"
  },
  "orig_nbformat": 4
 },
 "nbformat": 4,
 "nbformat_minor": 2
}
