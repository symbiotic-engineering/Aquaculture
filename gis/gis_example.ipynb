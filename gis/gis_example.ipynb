{
 "cells": [
  {
   "cell_type": "markdown",
   "id": "c87058df-bdf2-4292-a068-9dacf126ed26",
   "metadata": {},
   "source": [
    "# GIS Example File\n",
    "This file serves as an example for the GIS handler used to integrate GIS data with Python models. The handler can be loaded from the cell below, for use in a notebook, or from the `gis_handler.py` file which is identical. The examples in this file demonstrate possible ways to use the handler in modeling."
   ]
  },
  {
   "cell_type": "markdown",
   "id": "886126a6-288f-4930-8526-a63707013e92",
   "metadata": {},
   "source": [
    "## Setup"
   ]
  },
  {
   "cell_type": "code",
   "execution_count": 1,
   "id": "b9bb8b98-83f0-476d-9626-ec6121a797a9",
   "metadata": {
    "tags": []
   },
   "outputs": [],
   "source": [
    "# import packages required for the examples\n",
    "import matplotlib.pyplot as plt\n",
    "import rasterio.plot"
   ]
  },
  {
   "cell_type": "code",
   "execution_count": 2,
   "id": "153bfb10-30a7-49e2-abf2-402c399827bb",
   "metadata": {},
   "outputs": [],
   "source": [
    "# specify plot settings such as figure size\n",
    "plt.rcParams[\"figure.figsize\"] = [10,8]\n",
    "%config InlineBackend.figure_format = 'retina'"
   ]
  },
  {
   "cell_type": "markdown",
   "id": "df703785-4d8c-44a5-9833-658bb4947084",
   "metadata": {},
   "source": [
    "## Handler"
   ]
  },
  {
   "cell_type": "code",
   "execution_count": 3,
   "id": "6e673dba-2e20-472b-8432-12a604a2542e",
   "metadata": {},
   "outputs": [],
   "source": [
    "# Python GIS Handler\n",
    "# SEA Lab at Cornell University, last updated: 4/24/23\n",
    "\n",
    "# import necessary packages, namely geopandas and rasterio\n",
    "import geopandas as gpd\n",
    "import rasterio\n",
    "from shapely.geometry import Point\n",
    "import warnings\n",
    "from shapely.errors import ShapelyDeprecationWarning\n",
    "\n",
    "# ignore shapely 1.8 deprecation warnings\n",
    "warnings.filterwarnings(\"ignore\", category=ShapelyDeprecationWarning)\n",
    "precision = 5 # precision of input coordinates to prevent duplicate calls, 5dec~1.1m\n",
    "\n",
    "class GISHandler:\n",
    "    \"\"\"A class to handle GIS data and optimizer points.\"\"\"\n",
    "        \n",
    "    def __init__(self, conditions, conflicts, scope):\n",
    "        \"\"\"Initializes handler by creating a GeoDataFrame to store point measurement data and a dictionary of loaded raster files.\"\"\"\n",
    "        self.conditions = {}\n",
    "        self.conflicts = {}\n",
    "        self.scope = gpd.read_file(scope)\n",
    "        # create initial geodataframe with anticipated fields\n",
    "        self.points = gpd.GeoDataFrame(columns=['x', 'y', 'geometry', 'result', 'ok-conditions', 'ok-scope', 'ok-conflicts'], geometry='geometry')\n",
    "    \n",
    "        # check if raster already loaded as a condition, otherwise read source\n",
    "        for key, src in conditions.items():\n",
    "            if key in self.conditions:\n",
    "                print('raster {} already loaded!'.format(key))\n",
    "            else:\n",
    "                self.conditions[key] = rasterio.open(src)\n",
    "        \n",
    "        # check if vector already loaded as a conflict, otherwise read source\n",
    "        for key, src in conflicts.items():\n",
    "            if key in self.conflicts:\n",
    "                print('vector {} already loaded!'.format(key))\n",
    "            else:\n",
    "                self.conflicts[key] = gpd.read_file(src)\n",
    "                \n",
    "        # calculate boundaries of loaded files\n",
    "        self.extent = self.extent()\n",
    "    \n",
    "    def query(self, x, y):\n",
    "        \"\"\"Gets condition data for a specified geography location (lon/lat), stores it in the GeoDataFrame, and returns the row.\"\"\"\n",
    "        x, y = self.coordinate(x, y)\n",
    "                                \n",
    "        # check if point has already been queried\n",
    "        if not self.points.loc[(self.points.x==x) & (self.points.y==y)].empty:\n",
    "            print('point exists, returning original data')\n",
    "            return self.points.loc[(self.points.x==x) & (self.points.y==y)]\n",
    "        \n",
    "        point = Point(x, y)\n",
    "        conditions = {'x': x, 'y': y, 'geometry': point, 'ok-conditions': True, 'ok-scope': False, 'ok-conflicts': True}\n",
    "        \n",
    "        # check if point is offshore in desired scope\n",
    "        for polygon in self.scope['geometry']:\n",
    "            if point.intersects(polygon):\n",
    "                conditions['ok-scope'] = True\n",
    "        \n",
    "        # check if point intersects with any of the conflicts loaded as vectors\n",
    "        for key, vector in self.conflicts.items():\n",
    "            for polygon in vector['geometry']:\n",
    "                if point.intersects(polygon):\n",
    "                    conditions['ok-conflicts'] = False\n",
    "        \n",
    "        # check if point exists for all condition datasets, and pull condition data for point\n",
    "        for key, raster in self.conditions.items():\n",
    "            index = raster.index(x, y)\n",
    "            try:\n",
    "                 conditions[key] = raster.read(1)[index] # yes, by default this only reads the first band, but this is probably okay\n",
    "            except IndexError as error:\n",
    "                print('failed to read {} raster: {}'.format(key, error))\n",
    "            if conditions[key] == 0: # yes, this assumes that zero is not a valid value. this is true for our current rasters, but isn't necessarily correct\n",
    "                conditions['ok-conditions'] = False\n",
    "        \n",
    "        self.points = self.points.append(conditions, ignore_index=True)\n",
    "        return self.points.iloc[-1:]\n",
    "    \n",
    "    def record(self, x, y, value):\n",
    "        \"\"\"Records a computed value from the optimizer to a geographic point, returns row recorded to.\"\"\"\n",
    "        x, y = self.coordinate(x, y)\n",
    "        \n",
    "        if not self.points.loc[(self.points.x==x) & (self.points.y==y)].empty:\n",
    "            self.points.loc[(self.points.x==x) & (self.points.y==y), 'result'] = value\n",
    "            return self.points.loc[(self.points.x==x) & (self.points.y==y)]\n",
    "        \n",
    "        conditions = {'x': x, 'y': y, 'geometry': Point(x, y), 'result': value}\n",
    "        self.points = self.points.append(conditions, ignore_index=True)\n",
    "        return self.points.iloc[-1:]\n",
    "    \n",
    "    def query_grid(self, x_min, x_max, y_min, y_max, xy_delta):\n",
    "        \"\"\"Iteratively builds a grid of points with desired bounds and resolution for brute-force analysis.\"\"\"\n",
    "        self.grid = gpd.GeoDataFrame(columns=['x', 'y', 'geometry', 'result', 'ok-conditions', 'ok-scope', 'ok-conflicts'], geometry='geometry')\n",
    "        \n",
    "        x = x_min\n",
    "        y = y_min\n",
    "        while x <= x_max:\n",
    "            while y <= y_max:\n",
    "                self.query(x, y)\n",
    "                y += xy_delta\n",
    "            y=y_min\n",
    "            x += xy_delta\n",
    "    \n",
    "    def save(self, name):\n",
    "        \"\"\"Saves all loaded points and values into GIS format.\"\"\"\n",
    "        self.points.to_file(name, driver='GeoJSON')\n",
    "        \n",
    "    def load(self, name):\n",
    "        \"\"\"Loads previously saved points from GIS file.\"\"\"\n",
    "        self.points = gpd.read_file(name)\n",
    "        \n",
    "    def coordinate(self, x, y):\n",
    "        \"\"\"Rounds coordinates to given precision to prevent uneccessary duplication. In the future could handle projections.\"\"\"\n",
    "        return round(x, precision), round(y, precision)\n",
    "    \n",
    "    def extent(self):\n",
    "        \"\"\"Calculates largest rectangular extent that includes data from all loaded rasters.\"\"\"\n",
    "        \n",
    "        extent = [-180, 180, -90, 90] # format: [W, E, S, N]\n",
    "        for src in self.conditions.values():\n",
    "            extent = [max(extent[0], src.bounds[0]), min(extent[1], src.bounds[2]), max(extent[2], src.bounds[1]), min(extent[3], src.bounds[3])]\n",
    "            \n",
    "        return extent"
   ]
  },
  {
   "cell_type": "markdown",
   "id": "6243ac71-3498-46f0-bd97-39cf4c7f7715",
   "metadata": {},
   "source": [
    "## Example Usage"
   ]
  },
  {
   "cell_type": "markdown",
   "id": "6f248d5d-3b95-4618-8eed-ff4a5ce49724",
   "metadata": {},
   "source": [
    "### Load conditions (rasters), conflicts (vectors), and scope (vector)"
   ]
  },
  {
   "cell_type": "code",
   "execution_count": 6,
   "id": "f7ba2149-e8f5-44eb-8db9-ba1cf64039de",
   "metadata": {},
   "outputs": [],
   "source": [
    "# specify raster files with conditions\n",
    "conditions = {'current [m/s]': 'data/Surface Current (m-s).tif',\n",
    "              'oxygen [mg/l]': 'data/Surface Oxygen (mg-l).tif',\n",
    "              'salinity [PSU]': 'data/Surface Salinity (PSU).tif',\n",
    "              'temperature [°C]': 'data/Surface Temperature (C).tif',\n",
    "              'period [s]': 'data/Wave Energy Period (s).tif',\n",
    "              'height [m]': 'data/Wave Significant Height (m).tif',\n",
    "              'bathymetry [m]': 'data/Bathymetry (m).tif',\n",
    "              'distance to port [m]': 'data/Distance to Port (m).tif'}\n",
    "\n",
    "# specify vector files with conflicts\n",
    "# high fishing is above average, very high is more than one standard deviation above average\n",
    "conflicts = {'very high fishing traffic': 'data/Very High Fishing Vessel Traffic.geojson',\n",
    "#            'high fishing traffic': 'data/High Fishing Vessel Traffic.geojson',\n",
    "             'marine protected areas': 'data/Marine Protected Areas.geojson',\n",
    "             'danger zones': 'data/Danger Zones and Restricted Areas.geojson',\n",
    "             'submarine': 'data/Submarine Transit Lanes.geojson',\n",
    "             'torpex': 'data/Cape Cod TORPEX.geojson',\n",
    "             'block island': 'data/Block Island Renewable Energy Zone.geojson',\n",
    "             'ma wind': 'data/MA Wind Energy Areas.geojson',\n",
    "             'wind lease': 'data/Potential Wind Lease Areas.geojson',\n",
    "             'wind planning': 'data/Wind Planning Areas.geojson',\n",
    "             'shipping': 'data/Shipping Lanes.geojson'}\n",
    "\n",
    "# specify vector file with desired scope\n",
    "waters = \"data/Northeast State and Federal Waters.geojson\"\n",
    "\n",
    "# create handler object given specified files to load\n",
    "handler = GISHandler(conditions, conflicts, waters)"
   ]
  },
  {
   "cell_type": "markdown",
   "id": "6505132f-c6d2-4cf9-bc9b-03dfe8352a20",
   "metadata": {},
   "source": [
    "### Basic Operations"
   ]
  },
  {
   "cell_type": "markdown",
   "id": "54189978-d9d5-40e2-9c55-235a721c6bce",
   "metadata": {},
   "source": [
    "#### Print Extent"
   ]
  },
  {
   "cell_type": "code",
   "execution_count": 7,
   "id": "f77a070c-65a2-4df4-9bf7-0bd12243b0f6",
   "metadata": {},
   "outputs": [
    {
     "name": "stdout",
     "output_type": "stream",
     "text": [
      "Extent: W -75.105000333 E -65.701105095 S 38.4486345 N 45.190902453\n"
     ]
    }
   ],
   "source": [
    "print('Extent: W', handler.extent[0], 'E', handler.extent[1], 'S', handler.extent[2], 'N', handler.extent[3])"
   ]
  },
  {
   "cell_type": "markdown",
   "id": "5e3a2ae3-a603-4653-80a6-8d76e2d661d9",
   "metadata": {},
   "source": [
    "#### Query Point in Format (longitude, latitude) to Get Data"
   ]
  },
  {
   "cell_type": "code",
   "execution_count": 8,
   "id": "5039dca7-4720-45cb-90eb-71ed9b14784e",
   "metadata": {},
   "outputs": [
    {
     "name": "stderr",
     "output_type": "stream",
     "text": [
      "/var/folders/ky/d11qkkvj0g151c_msx0ghxkh0000gn/T/ipykernel_55643/2317222079.py:76: FutureWarning: The frame.append method is deprecated and will be removed from pandas in a future version. Use pandas.concat instead.\n",
      "  self.points = self.points.append(conditions, ignore_index=True)\n"
     ]
    },
    {
     "data": {
      "text/html": [
       "<div>\n",
       "<style scoped>\n",
       "    .dataframe tbody tr th:only-of-type {\n",
       "        vertical-align: middle;\n",
       "    }\n",
       "\n",
       "    .dataframe tbody tr th {\n",
       "        vertical-align: top;\n",
       "    }\n",
       "\n",
       "    .dataframe thead th {\n",
       "        text-align: right;\n",
       "    }\n",
       "</style>\n",
       "<table border=\"1\" class=\"dataframe\">\n",
       "  <thead>\n",
       "    <tr style=\"text-align: right;\">\n",
       "      <th></th>\n",
       "      <th>x</th>\n",
       "      <th>y</th>\n",
       "      <th>geometry</th>\n",
       "      <th>result</th>\n",
       "      <th>ok-conditions</th>\n",
       "      <th>ok-scope</th>\n",
       "      <th>ok-conflicts</th>\n",
       "      <th>current [m/s]</th>\n",
       "      <th>oxygen [mg/l]</th>\n",
       "      <th>salinity [PSU]</th>\n",
       "      <th>temperature [°C]</th>\n",
       "      <th>period [s]</th>\n",
       "      <th>height [m]</th>\n",
       "      <th>bathymetry [m]</th>\n",
       "      <th>distance to port [m]</th>\n",
       "    </tr>\n",
       "  </thead>\n",
       "  <tbody>\n",
       "    <tr>\n",
       "      <th>0</th>\n",
       "      <td>-68.112</td>\n",
       "      <td>44.103</td>\n",
       "      <td>POINT (-68.11200 44.10300)</td>\n",
       "      <td>NaN</td>\n",
       "      <td>True</td>\n",
       "      <td>True</td>\n",
       "      <td>True</td>\n",
       "      <td>0.091249</td>\n",
       "      <td>9.828943</td>\n",
       "      <td>32.028915</td>\n",
       "      <td>8.201413</td>\n",
       "      <td>6.14</td>\n",
       "      <td>0.98</td>\n",
       "      <td>-96.300003</td>\n",
       "      <td>75546.34375</td>\n",
       "    </tr>\n",
       "  </tbody>\n",
       "</table>\n",
       "</div>"
      ],
      "text/plain": [
       "        x       y                    geometry result ok-conditions ok-scope  \\\n",
       "0 -68.112  44.103  POINT (-68.11200 44.10300)    NaN          True     True   \n",
       "\n",
       "  ok-conflicts  current [m/s]  oxygen [mg/l]  salinity [PSU]  \\\n",
       "0         True       0.091249       9.828943       32.028915   \n",
       "\n",
       "   temperature [°C]  period [s]  height [m]  bathymetry [m]  \\\n",
       "0          8.201413        6.14        0.98      -96.300003   \n",
       "\n",
       "   distance to port [m]  \n",
       "0           75546.34375  "
      ]
     },
     "execution_count": 8,
     "metadata": {},
     "output_type": "execute_result"
    }
   ],
   "source": [
    "handler.query(-68.112, 44.103)"
   ]
  },
  {
   "cell_type": "code",
   "execution_count": null,
   "id": "9f0f69f6-9fe3-49e3-896e-ec7e099f2e3f",
   "metadata": {},
   "outputs": [],
   "source": [
    "handler.query(-72, 41.2)"
   ]
  },
  {
   "cell_type": "markdown",
   "id": "cd8d71f8-d2b8-4bbc-a47a-5c1c9663f2f4",
   "metadata": {},
   "source": [
    "#### Record Result of Model into GeoDataFrame"
   ]
  },
  {
   "cell_type": "code",
   "execution_count": null,
   "id": "b1a58bbc-dd48-4212-b4a8-d1c663ff7fe8",
   "metadata": {},
   "outputs": [],
   "source": [
    "# example result from model: 10\n",
    "handler.record(-72, 41.2, 10)"
   ]
  },
  {
   "cell_type": "markdown",
   "id": "d438245e-6356-4d14-bf48-d8f1dacd8d18",
   "metadata": {},
   "source": [
    "#### Generate a Grid of Points"
   ]
  },
  {
   "cell_type": "code",
   "execution_count": null,
   "id": "2d3d5c53-550b-4203-8334-d6730ecc48c6",
   "metadata": {},
   "outputs": [],
   "source": [
    "%%time\n",
    "handler.query_grid(-75.8, -65.7, 38.5, 45.2, 1)"
   ]
  },
  {
   "cell_type": "markdown",
   "id": "6e1dd697-29e6-4f18-9d1d-27352da1ce82",
   "metadata": {},
   "source": [
    "#### Save Results to File"
   ]
  },
  {
   "cell_type": "code",
   "execution_count": null,
   "id": "3e3e22db-81a7-4279-882b-ed5519e6832c",
   "metadata": {},
   "outputs": [],
   "source": [
    "handler.save('saved.geojson')"
   ]
  },
  {
   "cell_type": "markdown",
   "id": "85e1fd21-afee-4426-a612-e8da6b68057e",
   "metadata": {},
   "source": [
    "### Show Results with Tables and Maps"
   ]
  },
  {
   "cell_type": "code",
   "execution_count": null,
   "id": "d399cf6d-9e24-4d03-98bd-616c7ab4c41f",
   "metadata": {},
   "outputs": [],
   "source": [
    "handler.points"
   ]
  },
  {
   "cell_type": "code",
   "execution_count": null,
   "id": "bc66e4a8-f62a-40a7-87dc-8ae2a7f2b0a6",
   "metadata": {},
   "outputs": [],
   "source": [
    "fig, ax = plt.subplots(2, 2)\n",
    "rasterio.plot.show(handler.conditions['height [m]'], ax=ax[0,0], title='Wave Height [m]')\n",
    "rasterio.plot.show(handler.conditions['distance to port [m]'], ax=ax[0,1], title='Distance to Port [m]')\n",
    "rasterio.plot.show(handler.conditions['bathymetry [m]'], ax=ax[1,0], title='Bathymetry [m]')\n",
    "rasterio.plot.show(handler.conditions['temperature [°C]'], ax=ax[1,1], title='Temperature [°C]')\n",
    "\n",
    "for i in ax:\n",
    "    for j in i:\n",
    "        handler.points.plot(ax=j, color='red')"
   ]
  },
  {
   "cell_type": "code",
   "execution_count": null,
   "id": "976e3a3f-f4e1-4aaf-ba52-c9237c40c995",
   "metadata": {},
   "outputs": [],
   "source": [
    "%%time\n",
    "fig, ax = plt.subplots()\n",
    "handler.scope.plot(edgecolor='black', color='white', ax=ax)\n",
    "for gdf in handler.conflicts.values():\n",
    "    gdf.plot(ax=ax)\n",
    "handler.points.plot(ax=ax, color='red')"
   ]
  },
  {
   "cell_type": "code",
   "execution_count": null,
   "id": "d21f1765-728f-4fe4-ab89-98160dc36005",
   "metadata": {},
   "outputs": [],
   "source": []
  }
 ],
 "metadata": {
  "kernelspec": {
   "display_name": "Python [conda env:imta]",
   "language": "python",
   "name": "conda-env-imta-py"
  },
  "language_info": {
   "codemirror_mode": {
    "name": "ipython",
    "version": 3
   },
   "file_extension": ".py",
   "mimetype": "text/x-python",
   "name": "python",
   "nbconvert_exporter": "python",
   "pygments_lexer": "ipython3",
   "version": "3.9.18"
  }
 },
 "nbformat": 4,
 "nbformat_minor": 5
}
