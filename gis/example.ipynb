{
 "cells": [
  {
   "cell_type": "code",
   "execution_count": 8,
   "id": "b9bb8b98-83f0-476d-9626-ec6121a797a9",
   "metadata": {},
   "outputs": [],
   "source": [
    "import numpy as np\n",
    "import matplotlib.pyplot as plt\n",
    "import pandas as pd\n",
    "import rasterio.plot"
   ]
  },
  {
   "cell_type": "markdown",
   "id": "df703785-4d8c-44a5-9833-658bb4947084",
   "metadata": {},
   "source": [
    "## Handler"
   ]
  },
  {
   "cell_type": "code",
   "execution_count": 2,
   "id": "6e673dba-2e20-472b-8432-12a604a2542e",
   "metadata": {},
   "outputs": [],
   "source": [
    "import geopandas as gpd\n",
    "import rasterio\n",
    "from shapely.geometry import Point\n",
    "\n",
    "# precision of input coordinates, 5 decimals is about 1.1m of a commercial 'correcting' GPS unit\n",
    "# this post is helpful: https://gis.stackexchange.com/questions/8650/measuring-accuracy-of-latitude-and-longitude\n",
    "precision = 5\n",
    "\n",
    "class GISHandler:\n",
    "    def __init__(self, files):\n",
    "        self.rasters = {}\n",
    "        self.points = gpd.GeoDataFrame(columns=['x', 'y', 'result', 'geometry'], geometry='geometry')\n",
    "        \n",
    "        for key, src in files.items():\n",
    "            if key in self.rasters:\n",
    "                print('raster {} already loaded!'.format(key))\n",
    "            else:\n",
    "                self.rasters[key] = rasterio.open(src)\n",
    "    \n",
    "    def query(self, x, y):\n",
    "        x, y = self.clean(x, y)\n",
    "                                    \n",
    "        if not self.points.loc[(self.points.x==x) & (self.points.y==y)].empty:\n",
    "            print('point exists, returning original data')\n",
    "            return self.points.loc[(self.points.x==x) & (self.points.y==y)]\n",
    "        \n",
    "        conditions = {'x': x, 'y': y, 'geometry': Point(x, y)}\n",
    "        \n",
    "        for key, raster in self.rasters.items():\n",
    "            index = raster.index(x, y)\n",
    "            try:\n",
    "                 conditions[key] = raster.read(1)[index] # yes, by default this only reads the first band, but this is probably okay\n",
    "            except IndexError as error:\n",
    "                print('failed to read {} raster: {}'.format(key, error))    \n",
    "        \n",
    "        self.points = self.points.append(conditions, ignore_index=True)\n",
    "        return self.points.iloc[-1:]\n",
    "    \n",
    "    def record(self, x, y, value):\n",
    "        x, y = self.clean(x, y)\n",
    "        \n",
    "        if not self.points.loc[(self.points.x==x) & (self.points.y==y)].empty:\n",
    "            self.points.loc[(self.points.x==x) & (self.points.y==y), 'result'] = value\n",
    "            return self.points.loc[(self.points.x==x) & (self.points.y==y)]\n",
    "        \n",
    "        conditions = {'x': x, 'y': y, 'geometry': Point(x, y), 'result': value}\n",
    "        self.points = self.points.append(conditions, ignore_index=True)\n",
    "        return self.points.iloc[-1:]       \n",
    "        \n",
    "    def clean(self, x, y):\n",
    "        return round(x, precision), round(y, precision)"
   ]
  },
  {
   "cell_type": "markdown",
   "id": "6243ac71-3498-46f0-bd97-39cf4c7f7715",
   "metadata": {},
   "source": [
    "## Example"
   ]
  },
  {
   "cell_type": "code",
   "execution_count": 3,
   "id": "f7ba2149-e8f5-44eb-8db9-ba1cf64039de",
   "metadata": {},
   "outputs": [],
   "source": [
    "raster_files = {'oxygen': 'data/surface-oxygen-mgpl-4326.tif'}\n",
    "handler = GISHandler(raster_files)"
   ]
  },
  {
   "cell_type": "code",
   "execution_count": 10,
   "id": "81085435-46a3-442d-8f38-9819943a5372",
   "metadata": {},
   "outputs": [
    {
     "data": {
      "text/html": [
       "<div>\n",
       "<style scoped>\n",
       "    .dataframe tbody tr th:only-of-type {\n",
       "        vertical-align: middle;\n",
       "    }\n",
       "\n",
       "    .dataframe tbody tr th {\n",
       "        vertical-align: top;\n",
       "    }\n",
       "\n",
       "    .dataframe thead th {\n",
       "        text-align: right;\n",
       "    }\n",
       "</style>\n",
       "<table border=\"1\" class=\"dataframe\">\n",
       "  <thead>\n",
       "    <tr style=\"text-align: right;\">\n",
       "      <th></th>\n",
       "      <th>x</th>\n",
       "      <th>y</th>\n",
       "      <th>result</th>\n",
       "      <th>geometry</th>\n",
       "      <th>oxygen</th>\n",
       "    </tr>\n",
       "  </thead>\n",
       "  <tbody>\n",
       "    <tr>\n",
       "      <th>0</th>\n",
       "      <td>-70</td>\n",
       "      <td>41</td>\n",
       "      <td>NaN</td>\n",
       "      <td>POINT (-70.00000 41.00000)</td>\n",
       "      <td>9.332181</td>\n",
       "    </tr>\n",
       "    <tr>\n",
       "      <th>1</th>\n",
       "      <td>-70</td>\n",
       "      <td>40</td>\n",
       "      <td>43</td>\n",
       "      <td>POINT (-70.00000 40.00000)</td>\n",
       "      <td>NaN</td>\n",
       "    </tr>\n",
       "  </tbody>\n",
       "</table>\n",
       "</div>"
      ],
      "text/plain": [
       "     x   y result                    geometry    oxygen\n",
       "0  -70  41    NaN  POINT (-70.00000 41.00000)  9.332181\n",
       "1  -70  40     43  POINT (-70.00000 40.00000)       NaN"
      ]
     },
     "execution_count": 10,
     "metadata": {},
     "output_type": "execute_result"
    }
   ],
   "source": [
    "handler.points"
   ]
  },
  {
   "cell_type": "code",
   "execution_count": 5,
   "id": "5039dca7-4720-45cb-90eb-71ed9b14784e",
   "metadata": {},
   "outputs": [
    {
     "data": {
      "text/html": [
       "<div>\n",
       "<style scoped>\n",
       "    .dataframe tbody tr th:only-of-type {\n",
       "        vertical-align: middle;\n",
       "    }\n",
       "\n",
       "    .dataframe tbody tr th {\n",
       "        vertical-align: top;\n",
       "    }\n",
       "\n",
       "    .dataframe thead th {\n",
       "        text-align: right;\n",
       "    }\n",
       "</style>\n",
       "<table border=\"1\" class=\"dataframe\">\n",
       "  <thead>\n",
       "    <tr style=\"text-align: right;\">\n",
       "      <th></th>\n",
       "      <th>x</th>\n",
       "      <th>y</th>\n",
       "      <th>result</th>\n",
       "      <th>geometry</th>\n",
       "      <th>oxygen</th>\n",
       "    </tr>\n",
       "  </thead>\n",
       "  <tbody>\n",
       "    <tr>\n",
       "      <th>0</th>\n",
       "      <td>-70</td>\n",
       "      <td>41</td>\n",
       "      <td>NaN</td>\n",
       "      <td>POINT (-70.00000 41.00000)</td>\n",
       "      <td>9.332181</td>\n",
       "    </tr>\n",
       "  </tbody>\n",
       "</table>\n",
       "</div>"
      ],
      "text/plain": [
       "     x   y result                    geometry    oxygen\n",
       "0  -70  41    NaN  POINT (-70.00000 41.00000)  9.332181"
      ]
     },
     "execution_count": 5,
     "metadata": {},
     "output_type": "execute_result"
    }
   ],
   "source": [
    "handler.query(-70, 41)"
   ]
  },
  {
   "cell_type": "code",
   "execution_count": 6,
   "id": "b1a58bbc-dd48-4212-b4a8-d1c663ff7fe8",
   "metadata": {},
   "outputs": [
    {
     "data": {
      "text/html": [
       "<div>\n",
       "<style scoped>\n",
       "    .dataframe tbody tr th:only-of-type {\n",
       "        vertical-align: middle;\n",
       "    }\n",
       "\n",
       "    .dataframe tbody tr th {\n",
       "        vertical-align: top;\n",
       "    }\n",
       "\n",
       "    .dataframe thead th {\n",
       "        text-align: right;\n",
       "    }\n",
       "</style>\n",
       "<table border=\"1\" class=\"dataframe\">\n",
       "  <thead>\n",
       "    <tr style=\"text-align: right;\">\n",
       "      <th></th>\n",
       "      <th>x</th>\n",
       "      <th>y</th>\n",
       "      <th>result</th>\n",
       "      <th>geometry</th>\n",
       "      <th>oxygen</th>\n",
       "    </tr>\n",
       "  </thead>\n",
       "  <tbody>\n",
       "    <tr>\n",
       "      <th>1</th>\n",
       "      <td>-70</td>\n",
       "      <td>40</td>\n",
       "      <td>43</td>\n",
       "      <td>POINT (-70.00000 40.00000)</td>\n",
       "      <td>NaN</td>\n",
       "    </tr>\n",
       "  </tbody>\n",
       "</table>\n",
       "</div>"
      ],
      "text/plain": [
       "     x   y result                    geometry  oxygen\n",
       "1  -70  40     43  POINT (-70.00000 40.00000)     NaN"
      ]
     },
     "execution_count": 6,
     "metadata": {},
     "output_type": "execute_result"
    }
   ],
   "source": [
    "handler.record(-70, 40, 43)"
   ]
  },
  {
   "cell_type": "code",
   "execution_count": 9,
   "id": "bc66e4a8-f62a-40a7-87dc-8ae2a7f2b0a6",
   "metadata": {},
   "outputs": [
    {
     "data": {
      "text/plain": [
       "<AxesSubplot:>"
      ]
     },
     "execution_count": 9,
     "metadata": {},
     "output_type": "execute_result"
    },
    {
     "data": {
      "image/png": "[encoded data removed]",
      "text/plain": [
       "<Figure size 640x480 with 1 Axes>"
      ]
     },
     "metadata": {},
     "output_type": "display_data"
    }
   ],
   "source": [
    "fig, ax = plt.subplots()\n",
    "rasterio.plot.show(handler.rasters['oxygen'], ax=ax)\n",
    "handler.points.plot(ax=ax, color='red')"
   ]
  },
  {
   "cell_type": "code",
   "execution_count": null,
   "id": "3ab39b52-b80c-4549-95dd-3747e84e2904",
   "metadata": {},
   "outputs": [],
   "source": []
  }
 ],
 "metadata": {
  "kernelspec": {
   "display_name": "geo-venv",
   "language": "python",
   "name": "geo-venv"
  },
  "language_info": {
   "codemirror_mode": {
    "name": "ipython",
    "version": 3
   },
   "file_extension": ".py",
   "mimetype": "text/x-python",
   "name": "python",
   "nbconvert_exporter": "python",
   "pygments_lexer": "ipython3",
   "version": "3.7.13"
  }
 },
 "nbformat": 4,
 "nbformat_minor": 5
}
